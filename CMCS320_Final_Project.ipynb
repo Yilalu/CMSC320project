{
  "cells": [
    {
      "cell_type": "markdown",
      "metadata": {
        "id": "OvuQQmXEY1HF"
      },
      "source": [
        "# Maryland Traffic Violation Analysis"
      ]
    },
    {
      "cell_type": "markdown",
      "metadata": {
        "id": "4FpmF2S3sCVO"
      },
      "source": [
        "## Summer 2024 Data Science Project\n",
        "\n",
        "Abebaw Tereda, Oscar Javier Soto,  and Geremew Belew\n"
      ]
    },
    {
      "cell_type": "markdown",
      "metadata": {
        "id": "61RNC_bgjj_s"
      },
      "source": [
        "# Introduction\n",
        "\n",
        "The analysis of traffic violations in Maryland provides critical insights into the patterns and trends of traffic-related incidents within the region. This dataset was sourced from Kaggle. By examining this data, we aim to identify the most common types of traffic violations and their frequencies. We will also analyze the temporal patterns of traffic violations, including peak times and seasonal variations, examine the geographic distribution of traffic violations across different areas, and explore demographic factors, such as race and gender, to understand their influence on traffic violation trends.\n",
        "\n",
        "The dataset includes detailed information on each traffic violation, such as the date and time of the incident, location, description of the violation, and demographic details of the individuals involved. This helps us analyze the temporal and spatial distribution of traffic violations and examine potential correlations with demographic variables.\n",
        "\n",
        "Understanding the dynamics of traffic violations is crucial for developing targeted interventions to improve road safety and reduce traffic-related incidents. Insights derived from this analysis can inform policymakers, law enforcement agencies, and community stakeholders, enabling them to implement data-driven strategies to enhance traffic management and public safety.\n",
        "\n",
        "The analysis will employ various statistical and data visualization techniques to uncover patterns and relationships within the dataset. We will use Pandas for data manipulation, Matplotlib for visualization, and machine learning algorithms to predict trends and identify high-risk factors associated with traffic violations. Analyze the temporal patterns of traffic violations, including peak times and seasonal variations.\n"
      ]
    },
    {
      "cell_type": "markdown",
      "metadata": {},
      "source": [
        "# Data Curation\n",
        "The dataset used in this analysis is sourced from Kaggle: [Traffic Violations in Maryland County](https://www.kaggle.com/datasets/rounak041993/traffic-violations-in-maryland-county). \n",
        "\n",
        "The dataset includes detailed information on each traffic violation, such as the date and time of the incident, location, description of the violation, and demographic details of the individuals involved. This helps us analyze traffic violation's temporal and spatial distribution and examine potential correlations with demographic variables."
      ]
    },
    {
      "cell_type": "markdown",
      "metadata": {},
      "source": [
        "## Data preprocessing"
      ]
    },
    {
      "cell_type": "markdown",
      "metadata": {},
      "source": [
        "### Loading and understanding the Dataset"
      ]
    },
    {
      "cell_type": "markdown",
      "metadata": {},
      "source": [
        "First, we import the necessary libraries and load the dataset into a Pandas DataFrame. Pandas is a powerful data manipulation library in Python that simplifies data handling and preparation."
      ]
    },
    {
      "cell_type": "code",
      "execution_count": 3,
      "metadata": {},
      "outputs": [],
      "source": [
        "#Import libraries\n",
        "import pandas as pd\n",
        "import numpy as np\n",
        "import matplotlib.pyplot as plt\n",
        "from scipy.stats import zscore, chi2_contingency"
      ]
    },
    {
      "cell_type": "markdown",
      "metadata": {},
      "source": [
        "Load Traffic_Violations.csv dataset into traffic_violations_df dataframe and display the dataframe."
      ]
    },
    {
      "cell_type": "code",
      "execution_count": 4,
      "metadata": {},
      "outputs": [
        {
          "name": "stderr",
          "output_type": "stream",
          "text": [
            "C:\\Users\\abeba\\AppData\\Local\\Temp\\ipykernel_25524\\4236632580.py:2: DtypeWarning: Columns (26) have mixed types. Specify dtype option on import or set low_memory=False.\n",
            "  traffic_violations_df = pd.read_csv(\"Traffic_Violations.csv\")\n"
          ]
        },
        {
          "data": {
            "text/html": [
              "<div>\n",
              "<style scoped>\n",
              "    .dataframe tbody tr th:only-of-type {\n",
              "        vertical-align: middle;\n",
              "    }\n",
              "\n",
              "    .dataframe tbody tr th {\n",
              "        vertical-align: top;\n",
              "    }\n",
              "\n",
              "    .dataframe thead th {\n",
              "        text-align: right;\n",
              "    }\n",
              "</style>\n",
              "<table border=\"1\" class=\"dataframe\">\n",
              "  <thead>\n",
              "    <tr style=\"text-align: right;\">\n",
              "      <th></th>\n",
              "      <th>Date Of Stop</th>\n",
              "      <th>Time Of Stop</th>\n",
              "      <th>Agency</th>\n",
              "      <th>SubAgency</th>\n",
              "      <th>Description</th>\n",
              "      <th>Location</th>\n",
              "      <th>Latitude</th>\n",
              "      <th>Longitude</th>\n",
              "      <th>Accident</th>\n",
              "      <th>Belts</th>\n",
              "      <th>...</th>\n",
              "      <th>Charge</th>\n",
              "      <th>Article</th>\n",
              "      <th>Contributed To Accident</th>\n",
              "      <th>Race</th>\n",
              "      <th>Gender</th>\n",
              "      <th>Driver City</th>\n",
              "      <th>Driver State</th>\n",
              "      <th>DL State</th>\n",
              "      <th>Arrest Type</th>\n",
              "      <th>Geolocation</th>\n",
              "    </tr>\n",
              "  </thead>\n",
              "  <tbody>\n",
              "    <tr>\n",
              "      <th>0</th>\n",
              "      <td>09/24/2013</td>\n",
              "      <td>17:11:00</td>\n",
              "      <td>MCP</td>\n",
              "      <td>3rd district, Silver Spring</td>\n",
              "      <td>DRIVING VEHICLE ON HIGHWAY WITH SUSPENDED REGI...</td>\n",
              "      <td>8804 FLOWER AVE</td>\n",
              "      <td>NaN</td>\n",
              "      <td>NaN</td>\n",
              "      <td>No</td>\n",
              "      <td>No</td>\n",
              "      <td>...</td>\n",
              "      <td>13-401(h)</td>\n",
              "      <td>Transportation Article</td>\n",
              "      <td>No</td>\n",
              "      <td>BLACK</td>\n",
              "      <td>M</td>\n",
              "      <td>TAKOMA PARK</td>\n",
              "      <td>MD</td>\n",
              "      <td>MD</td>\n",
              "      <td>A - Marked Patrol</td>\n",
              "      <td>NaN</td>\n",
              "    </tr>\n",
              "    <tr>\n",
              "      <th>1</th>\n",
              "      <td>08/29/2017</td>\n",
              "      <td>10:19:00</td>\n",
              "      <td>MCP</td>\n",
              "      <td>2nd district, Bethesda</td>\n",
              "      <td>DRIVER FAILURE TO OBEY PROPERLY PLACED TRAFFIC...</td>\n",
              "      <td>WISCONSIN AVE@ ELM ST</td>\n",
              "      <td>38.981725</td>\n",
              "      <td>-77.092757</td>\n",
              "      <td>No</td>\n",
              "      <td>No</td>\n",
              "      <td>...</td>\n",
              "      <td>21-201(a1)</td>\n",
              "      <td>Transportation Article</td>\n",
              "      <td>No</td>\n",
              "      <td>WHITE</td>\n",
              "      <td>F</td>\n",
              "      <td>FAIRFAX STATION</td>\n",
              "      <td>VA</td>\n",
              "      <td>VA</td>\n",
              "      <td>A - Marked Patrol</td>\n",
              "      <td>(38.981725, -77.0927566666667)</td>\n",
              "    </tr>\n",
              "    <tr>\n",
              "      <th>2</th>\n",
              "      <td>12/01/2014</td>\n",
              "      <td>12:52:00</td>\n",
              "      <td>MCP</td>\n",
              "      <td>6th district, Gaithersburg / Montgomery Village</td>\n",
              "      <td>FAILURE STOP AND YIELD AT THRU HWY</td>\n",
              "      <td>CHRISTOPHER AVE/MONTGOMERY VILLAGE AVE</td>\n",
              "      <td>39.162888</td>\n",
              "      <td>-77.229088</td>\n",
              "      <td>No</td>\n",
              "      <td>No</td>\n",
              "      <td>...</td>\n",
              "      <td>21-403(b)</td>\n",
              "      <td>Transportation Article</td>\n",
              "      <td>No</td>\n",
              "      <td>BLACK</td>\n",
              "      <td>F</td>\n",
              "      <td>UPPER MARLBORO</td>\n",
              "      <td>MD</td>\n",
              "      <td>MD</td>\n",
              "      <td>A - Marked Patrol</td>\n",
              "      <td>(39.1628883333333, -77.2290883333333)</td>\n",
              "    </tr>\n",
              "    <tr>\n",
              "      <th>3</th>\n",
              "      <td>08/29/2017</td>\n",
              "      <td>09:22:00</td>\n",
              "      <td>MCP</td>\n",
              "      <td>3rd district, Silver Spring</td>\n",
              "      <td>FAILURE YIELD RIGHT OF WAY ON U TURN</td>\n",
              "      <td>CHERRY HILL RD./CALVERTON BLVD.</td>\n",
              "      <td>39.056975</td>\n",
              "      <td>-76.954633</td>\n",
              "      <td>No</td>\n",
              "      <td>No</td>\n",
              "      <td>...</td>\n",
              "      <td>21-402(b)</td>\n",
              "      <td>Transportation Article</td>\n",
              "      <td>No</td>\n",
              "      <td>BLACK</td>\n",
              "      <td>M</td>\n",
              "      <td>FORT WASHINGTON</td>\n",
              "      <td>MD</td>\n",
              "      <td>MD</td>\n",
              "      <td>A - Marked Patrol</td>\n",
              "      <td>(39.056975, -76.9546333333333)</td>\n",
              "    </tr>\n",
              "    <tr>\n",
              "      <th>4</th>\n",
              "      <td>08/28/2017</td>\n",
              "      <td>23:41:00</td>\n",
              "      <td>MCP</td>\n",
              "      <td>6th district, Gaithersburg / Montgomery Village</td>\n",
              "      <td>FAILURE OF DR. TO MAKE LANE CHANGE TO AVAIL. L...</td>\n",
              "      <td>355 @ SOUTH WESTLAND DRIVE</td>\n",
              "      <td>NaN</td>\n",
              "      <td>NaN</td>\n",
              "      <td>No</td>\n",
              "      <td>No</td>\n",
              "      <td>...</td>\n",
              "      <td>21-405(e1)</td>\n",
              "      <td>Transportation Article</td>\n",
              "      <td>No</td>\n",
              "      <td>WHITE</td>\n",
              "      <td>M</td>\n",
              "      <td>GAITHERSBURG</td>\n",
              "      <td>MD</td>\n",
              "      <td>MD</td>\n",
              "      <td>A - Marked Patrol</td>\n",
              "      <td>NaN</td>\n",
              "    </tr>\n",
              "  </tbody>\n",
              "</table>\n",
              "<p>5 rows × 35 columns</p>\n",
              "</div>"
            ],
            "text/plain": [
              "  Date Of Stop Time Of Stop Agency  \\\n",
              "0   09/24/2013     17:11:00    MCP   \n",
              "1   08/29/2017     10:19:00    MCP   \n",
              "2   12/01/2014     12:52:00    MCP   \n",
              "3   08/29/2017     09:22:00    MCP   \n",
              "4   08/28/2017     23:41:00    MCP   \n",
              "\n",
              "                                         SubAgency  \\\n",
              "0                      3rd district, Silver Spring   \n",
              "1                           2nd district, Bethesda   \n",
              "2  6th district, Gaithersburg / Montgomery Village   \n",
              "3                      3rd district, Silver Spring   \n",
              "4  6th district, Gaithersburg / Montgomery Village   \n",
              "\n",
              "                                         Description  \\\n",
              "0  DRIVING VEHICLE ON HIGHWAY WITH SUSPENDED REGI...   \n",
              "1  DRIVER FAILURE TO OBEY PROPERLY PLACED TRAFFIC...   \n",
              "2                 FAILURE STOP AND YIELD AT THRU HWY   \n",
              "3               FAILURE YIELD RIGHT OF WAY ON U TURN   \n",
              "4  FAILURE OF DR. TO MAKE LANE CHANGE TO AVAIL. L...   \n",
              "\n",
              "                                 Location   Latitude  Longitude Accident  \\\n",
              "0                         8804 FLOWER AVE        NaN        NaN       No   \n",
              "1                   WISCONSIN AVE@ ELM ST  38.981725 -77.092757       No   \n",
              "2  CHRISTOPHER AVE/MONTGOMERY VILLAGE AVE  39.162888 -77.229088       No   \n",
              "3         CHERRY HILL RD./CALVERTON BLVD.  39.056975 -76.954633       No   \n",
              "4              355 @ SOUTH WESTLAND DRIVE        NaN        NaN       No   \n",
              "\n",
              "  Belts  ...      Charge                 Article Contributed To Accident  \\\n",
              "0    No  ...   13-401(h)  Transportation Article                      No   \n",
              "1    No  ...  21-201(a1)  Transportation Article                      No   \n",
              "2    No  ...   21-403(b)  Transportation Article                      No   \n",
              "3    No  ...   21-402(b)  Transportation Article                      No   \n",
              "4    No  ...  21-405(e1)  Transportation Article                      No   \n",
              "\n",
              "    Race Gender      Driver City Driver State DL State        Arrest Type  \\\n",
              "0  BLACK      M      TAKOMA PARK           MD       MD  A - Marked Patrol   \n",
              "1  WHITE      F  FAIRFAX STATION           VA       VA  A - Marked Patrol   \n",
              "2  BLACK      F   UPPER MARLBORO           MD       MD  A - Marked Patrol   \n",
              "3  BLACK      M  FORT WASHINGTON           MD       MD  A - Marked Patrol   \n",
              "4  WHITE      M     GAITHERSBURG           MD       MD  A - Marked Patrol   \n",
              "\n",
              "                             Geolocation  \n",
              "0                                    NaN  \n",
              "1         (38.981725, -77.0927566666667)  \n",
              "2  (39.1628883333333, -77.2290883333333)  \n",
              "3         (39.056975, -76.9546333333333)  \n",
              "4                                    NaN  \n",
              "\n",
              "[5 rows x 35 columns]"
            ]
          },
          "execution_count": 4,
          "metadata": {},
          "output_type": "execute_result"
        }
      ],
      "source": [
        "#Display the dataframe after loading the csv file\n",
        "traffic_violations_df = pd.read_csv(\"Traffic_Violations.csv\")\n",
        "traffic_violations_df.head()"
      ]
    },
    {
      "cell_type": "markdown",
      "metadata": {},
      "source": [
        "Display column types."
      ]
    },
    {
      "cell_type": "code",
      "execution_count": 5,
      "metadata": {},
      "outputs": [
        {
          "data": {
            "text/plain": [
              "Index(['Date Of Stop', 'Time Of Stop', 'Agency', 'SubAgency', 'Description',\n",
              "       'Location', 'Latitude', 'Longitude', 'Accident', 'Belts',\n",
              "       'Personal Injury', 'Property Damage', 'Fatal', 'Commercial License',\n",
              "       'HAZMAT', 'Commercial Vehicle', 'Alcohol', 'Work Zone', 'State',\n",
              "       'VehicleType', 'Year', 'Make', 'Model', 'Color', 'Violation Type',\n",
              "       'Charge', 'Article', 'Contributed To Accident', 'Race', 'Gender',\n",
              "       'Driver City', 'Driver State', 'DL State', 'Arrest Type',\n",
              "       'Geolocation'],\n",
              "      dtype='object')"
            ]
          },
          "execution_count": 5,
          "metadata": {},
          "output_type": "execute_result"
        }
      ],
      "source": [
        "#Display the column list\n",
        "traffic_violations_df.columns"
      ]
    },
    {
      "cell_type": "markdown",
      "metadata": {},
      "source": [
        "In this step, we inspect the data types of each column in the original dataset. Understanding the data types is crucial because it helps us identify which columns need type conversion or further preprocessing. For instance, date and time columns should be converted to datetime objects, and categorical variables might need to be converted to numerical formats for analysis. By examining the data types, we ensure that the data is in the correct format for subsequent analysis and manipulation."
      ]
    },
    {
      "cell_type": "code",
      "execution_count": 6,
      "metadata": {},
      "outputs": [
        {
          "data": {
            "text/plain": [
              "Date Of Stop                object\n",
              "Time Of Stop                object\n",
              "Agency                      object\n",
              "SubAgency                   object\n",
              "Description                 object\n",
              "Location                    object\n",
              "Latitude                   float64\n",
              "Longitude                  float64\n",
              "Accident                    object\n",
              "Belts                       object\n",
              "Personal Injury             object\n",
              "Property Damage             object\n",
              "Fatal                       object\n",
              "Commercial License          object\n",
              "HAZMAT                      object\n",
              "Commercial Vehicle          object\n",
              "Alcohol                     object\n",
              "Work Zone                   object\n",
              "State                       object\n",
              "VehicleType                 object\n",
              "Year                       float64\n",
              "Make                        object\n",
              "Model                       object\n",
              "Color                       object\n",
              "Violation Type              object\n",
              "Charge                      object\n",
              "Article                     object\n",
              "Contributed To Accident     object\n",
              "Race                        object\n",
              "Gender                      object\n",
              "Driver City                 object\n",
              "Driver State                object\n",
              "DL State                    object\n",
              "Arrest Type                 object\n",
              "Geolocation                 object\n",
              "dtype: object"
            ]
          },
          "execution_count": 6,
          "metadata": {},
          "output_type": "execute_result"
        }
      ],
      "source": [
        "#Display the datatype the original dataset\n",
        "traffic_violations_df.dtypes"
      ]
    },
    {
      "cell_type": "markdown",
      "metadata": {},
      "source": [
        "To understand the size and structure of our dataset, we check the number of rows and columns. This information provides an overview of the dataset's dimensions and helps in assessing the volume of data we are working with. Knowing the number of rows and columns is also useful for later steps in data analysis, such as memory management and performance optimization."
      ]
    },
    {
      "cell_type": "code",
      "execution_count": 7,
      "metadata": {},
      "outputs": [
        {
          "name": "stdout",
          "output_type": "stream",
          "text": [
            "Number of rows:  1292399\n",
            "Number of columns:  35\n"
          ]
        }
      ],
      "source": [
        "#Display the number of rows and columns\n",
        "number_of_rows, number_of_columns = traffic_violations_df.shape\n",
        "print(\"Number of rows: \", number_of_rows)\n",
        "print(\"Number of columns: \", number_of_columns)"
      ]
    },
    {
      "cell_type": "markdown",
      "metadata": {},
      "source": [
        "To ensure the quality and completeness of our dataset, we need to identify columns with missing values. By using the count function, we can determine the number of non-null entries in each column. Comparing these counts with the total number of rows in the dataset helps us pinpoint columns that contain missing data. Identifying these columns is the first step in handling missing values, which is crucial for accurate data analysis and modeling."
      ]
    },
    {
      "cell_type": "code",
      "execution_count": 8,
      "metadata": {},
      "outputs": [
        {
          "data": {
            "text/plain": [
              "Date Of Stop               1292399\n",
              "Time Of Stop               1292399\n",
              "Agency                     1292399\n",
              "SubAgency                  1292389\n",
              "Description                1292390\n",
              "Location                   1292397\n",
              "Latitude                   1197045\n",
              "Longitude                  1197045\n",
              "Accident                   1292399\n",
              "Belts                      1292399\n",
              "Personal Injury            1292399\n",
              "Property Damage            1292399\n",
              "Fatal                      1292399\n",
              "Commercial License         1292399\n",
              "HAZMAT                     1292399\n",
              "Commercial Vehicle         1292399\n",
              "Alcohol                    1292399\n",
              "Work Zone                  1292399\n",
              "State                      1292340\n",
              "VehicleType                1292399\n",
              "Year                       1284325\n",
              "Make                       1292342\n",
              "Model                      1292212\n",
              "Color                      1276272\n",
              "Violation Type             1292399\n",
              "Charge                     1292399\n",
              "Article                    1227230\n",
              "Contributed To Accident    1292399\n",
              "Race                       1292399\n",
              "Gender                     1292399\n",
              "Driver City                1292182\n",
              "Driver State               1292388\n",
              "DL State                   1291470\n",
              "Arrest Type                1292399\n",
              "Geolocation                1197045\n",
              "dtype: int64"
            ]
          },
          "execution_count": 8,
          "metadata": {},
          "output_type": "execute_result"
        }
      ],
      "source": [
        "#Use a count function to identify which row has a missing value\n",
        "traffic_violations_df.count()"
      ]
    },
    {
      "cell_type": "markdown",
      "metadata": {},
      "source": [
        "To ensure the integrity and uniqueness of our dataset, we need to check for duplicate entries. Duplicate rows can distort analysis results and lead to incorrect conclusions. By using the `duplicated()` function, we can identify rows that are exact duplicates of others. This step helps us maintain a clean dataset by identifying and removing redundant data points."
      ]
    },
    {
      "cell_type": "code",
      "execution_count": 9,
      "metadata": {},
      "outputs": [
        {
          "name": "stdout",
          "output_type": "stream",
          "text": [
            "Duplicate entries:  1588\n"
          ]
        }
      ],
      "source": [
        "duplicate_rows = traffic_violations_df.duplicated()\n",
        "print(\"Duplicate entries: \", traffic_violations_df[duplicate_rows].shape[0])"
      ]
    },
    {
      "cell_type": "markdown",
      "metadata": {},
      "source": [
        "In this step, we identify which columns have missing values and how many missing values each column contains. This information is essential for understanding the completeness of our dataset. By using the `isnull().sum()` function, we can quickly see the number of missing entries in each column. This helps us decide how to handle these missing values, whether by removing rows, filling in missing values, or using other imputation methods."
      ]
    },
    {
      "cell_type": "code",
      "execution_count": 10,
      "metadata": {},
      "outputs": [
        {
          "data": {
            "text/plain": [
              "Date Of Stop                   0\n",
              "Time Of Stop                   0\n",
              "Agency                         0\n",
              "SubAgency                     10\n",
              "Description                    9\n",
              "Location                       2\n",
              "Latitude                   95354\n",
              "Longitude                  95354\n",
              "Accident                       0\n",
              "Belts                          0\n",
              "Personal Injury                0\n",
              "Property Damage                0\n",
              "Fatal                          0\n",
              "Commercial License             0\n",
              "HAZMAT                         0\n",
              "Commercial Vehicle             0\n",
              "Alcohol                        0\n",
              "Work Zone                      0\n",
              "State                         59\n",
              "VehicleType                    0\n",
              "Year                        8074\n",
              "Make                          57\n",
              "Model                        187\n",
              "Color                      16127\n",
              "Violation Type                 0\n",
              "Charge                         0\n",
              "Article                    65169\n",
              "Contributed To Accident        0\n",
              "Race                           0\n",
              "Gender                         0\n",
              "Driver City                  217\n",
              "Driver State                  11\n",
              "DL State                     929\n",
              "Arrest Type                    0\n",
              "Geolocation                95354\n",
              "dtype: int64"
            ]
          },
          "execution_count": 10,
          "metadata": {},
          "output_type": "execute_result"
        }
      ],
      "source": [
        "# Check which columns have a missing vlaue\n",
        "missing_values_count = traffic_violations_df.isnull().sum()\n",
        "missing_values_count"
      ]
    },
    {
      "cell_type": "markdown",
      "metadata": {},
      "source": [
        "### Data cleaning"
      ]
    }
  ],
  "metadata": {
    "colab": {
      "provenance": [],
      "toc_visible": true
    },
    "kernelspec": {
      "display_name": "Python 3 (ipykernel)",
      "language": "python",
      "name": "python3"
    },
    "language_info": {
      "codemirror_mode": {
        "name": "ipython",
        "version": 3
      },
      "file_extension": ".py",
      "mimetype": "text/x-python",
      "name": "python",
      "nbconvert_exporter": "python",
      "pygments_lexer": "ipython3",
      "version": "3.12.4"
    }
  },
  "nbformat": 4,
  "nbformat_minor": 0
}
