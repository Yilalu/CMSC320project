{
 "cells": [
  {
   "cell_type": "markdown",
   "metadata": {
    "id": "OvuQQmXEY1HF"
   },
   "source": [
    "# Final Project Part 2"
   ]
  },
  {
   "cell_type": "markdown",
   "metadata": {
    "id": "OvuQQmXEY1HF"
   },
   "source": [
    "# Part 1 Data preprocessing: Import, Parse, Organize"
   ]
  },
  {
   "cell_type": "markdown",
   "metadata": {
    "id": "61RNC_bgjj_s"
   },
   "source": [
    "## Explore the dataset"
   ]
  },
  {
   "cell_type": "markdown",
   "metadata": {
    "id": "nPJ4pLfRY1HH"
   },
   "source": [
    "### Import necessary libraries"
   ]
  },
  {
   "cell_type": "code",
   "execution_count": 1,
   "metadata": {
    "id": "rGbHr5SjXXkH"
   },
   "outputs": [],
   "source": [
    "#Import libraries\n",
    "import pandas as pd\n",
    "import numpy as np\n",
    "import matplotlib.pyplot as plt\n",
    "import scipy.stats as stats\n",
    "from scipy.stats import zscore"
   ]
  },
  {
   "cell_type": "markdown",
   "metadata": {
    "id": "EKJvzihaY1HJ"
   },
   "source": [
    "Load Traffic_Violations.csv dataset into traffic_violations_df dataframe and display the dataframe."
   ]
  },
  {
   "cell_type": "code",
   "execution_count": 2,
   "metadata": {
    "colab": {
     "base_uri": "https://localhost:8080/",
     "height": 1000
    },
    "id": "o53qg-rVY1HK",
    "outputId": "58a4701c-c656-41af-a59a-0496b17260ae"
   },
   "outputs": [
    {
     "name": "stderr",
     "output_type": "stream",
     "text": [
      "/tmp/ipykernel_9252/2491360407.py:2: DtypeWarning: Columns (26) have mixed types. Specify dtype option on import or set low_memory=False.\n",
      "  traffic_violations_df = pd.read_csv(\"Traffic_Violations.csv\")\n"
     ]
    },
    {
     "data": {
      "text/html": [
       "<div>\n",
       "<style scoped>\n",
       "    .dataframe tbody tr th:only-of-type {\n",
       "        vertical-align: middle;\n",
       "    }\n",
       "\n",
       "    .dataframe tbody tr th {\n",
       "        vertical-align: top;\n",
       "    }\n",
       "\n",
       "    .dataframe thead th {\n",
       "        text-align: right;\n",
       "    }\n",
       "</style>\n",
       "<table border=\"1\" class=\"dataframe\">\n",
       "  <thead>\n",
       "    <tr style=\"text-align: right;\">\n",
       "      <th></th>\n",
       "      <th>Date Of Stop</th>\n",
       "      <th>Time Of Stop</th>\n",
       "      <th>Agency</th>\n",
       "      <th>SubAgency</th>\n",
       "      <th>Description</th>\n",
       "      <th>Location</th>\n",
       "      <th>Latitude</th>\n",
       "      <th>Longitude</th>\n",
       "      <th>Accident</th>\n",
       "      <th>Belts</th>\n",
       "      <th>...</th>\n",
       "      <th>Charge</th>\n",
       "      <th>Article</th>\n",
       "      <th>Contributed To Accident</th>\n",
       "      <th>Race</th>\n",
       "      <th>Gender</th>\n",
       "      <th>Driver City</th>\n",
       "      <th>Driver State</th>\n",
       "      <th>DL State</th>\n",
       "      <th>Arrest Type</th>\n",
       "      <th>Geolocation</th>\n",
       "    </tr>\n",
       "  </thead>\n",
       "  <tbody>\n",
       "    <tr>\n",
       "      <th>0</th>\n",
       "      <td>09/24/2013</td>\n",
       "      <td>17:11:00</td>\n",
       "      <td>MCP</td>\n",
       "      <td>3rd district, Silver Spring</td>\n",
       "      <td>DRIVING VEHICLE ON HIGHWAY WITH SUSPENDED REGI...</td>\n",
       "      <td>8804 FLOWER AVE</td>\n",
       "      <td>NaN</td>\n",
       "      <td>NaN</td>\n",
       "      <td>No</td>\n",
       "      <td>No</td>\n",
       "      <td>...</td>\n",
       "      <td>13-401(h)</td>\n",
       "      <td>Transportation Article</td>\n",
       "      <td>No</td>\n",
       "      <td>BLACK</td>\n",
       "      <td>M</td>\n",
       "      <td>TAKOMA PARK</td>\n",
       "      <td>MD</td>\n",
       "      <td>MD</td>\n",
       "      <td>A - Marked Patrol</td>\n",
       "      <td>NaN</td>\n",
       "    </tr>\n",
       "    <tr>\n",
       "      <th>1</th>\n",
       "      <td>08/29/2017</td>\n",
       "      <td>10:19:00</td>\n",
       "      <td>MCP</td>\n",
       "      <td>2nd district, Bethesda</td>\n",
       "      <td>DRIVER FAILURE TO OBEY PROPERLY PLACED TRAFFIC...</td>\n",
       "      <td>WISCONSIN AVE@ ELM ST</td>\n",
       "      <td>38.981725</td>\n",
       "      <td>-77.092757</td>\n",
       "      <td>No</td>\n",
       "      <td>No</td>\n",
       "      <td>...</td>\n",
       "      <td>21-201(a1)</td>\n",
       "      <td>Transportation Article</td>\n",
       "      <td>No</td>\n",
       "      <td>WHITE</td>\n",
       "      <td>F</td>\n",
       "      <td>FAIRFAX STATION</td>\n",
       "      <td>VA</td>\n",
       "      <td>VA</td>\n",
       "      <td>A - Marked Patrol</td>\n",
       "      <td>(38.981725, -77.0927566666667)</td>\n",
       "    </tr>\n",
       "    <tr>\n",
       "      <th>2</th>\n",
       "      <td>12/01/2014</td>\n",
       "      <td>12:52:00</td>\n",
       "      <td>MCP</td>\n",
       "      <td>6th district, Gaithersburg / Montgomery Village</td>\n",
       "      <td>FAILURE STOP AND YIELD AT THRU HWY</td>\n",
       "      <td>CHRISTOPHER AVE/MONTGOMERY VILLAGE AVE</td>\n",
       "      <td>39.162888</td>\n",
       "      <td>-77.229088</td>\n",
       "      <td>No</td>\n",
       "      <td>No</td>\n",
       "      <td>...</td>\n",
       "      <td>21-403(b)</td>\n",
       "      <td>Transportation Article</td>\n",
       "      <td>No</td>\n",
       "      <td>BLACK</td>\n",
       "      <td>F</td>\n",
       "      <td>UPPER MARLBORO</td>\n",
       "      <td>MD</td>\n",
       "      <td>MD</td>\n",
       "      <td>A - Marked Patrol</td>\n",
       "      <td>(39.1628883333333, -77.2290883333333)</td>\n",
       "    </tr>\n",
       "    <tr>\n",
       "      <th>3</th>\n",
       "      <td>08/29/2017</td>\n",
       "      <td>09:22:00</td>\n",
       "      <td>MCP</td>\n",
       "      <td>3rd district, Silver Spring</td>\n",
       "      <td>FAILURE YIELD RIGHT OF WAY ON U TURN</td>\n",
       "      <td>CHERRY HILL RD./CALVERTON BLVD.</td>\n",
       "      <td>39.056975</td>\n",
       "      <td>-76.954633</td>\n",
       "      <td>No</td>\n",
       "      <td>No</td>\n",
       "      <td>...</td>\n",
       "      <td>21-402(b)</td>\n",
       "      <td>Transportation Article</td>\n",
       "      <td>No</td>\n",
       "      <td>BLACK</td>\n",
       "      <td>M</td>\n",
       "      <td>FORT WASHINGTON</td>\n",
       "      <td>MD</td>\n",
       "      <td>MD</td>\n",
       "      <td>A - Marked Patrol</td>\n",
       "      <td>(39.056975, -76.9546333333333)</td>\n",
       "    </tr>\n",
       "    <tr>\n",
       "      <th>4</th>\n",
       "      <td>08/28/2017</td>\n",
       "      <td>23:41:00</td>\n",
       "      <td>MCP</td>\n",
       "      <td>6th district, Gaithersburg / Montgomery Village</td>\n",
       "      <td>FAILURE OF DR. TO MAKE LANE CHANGE TO AVAIL. L...</td>\n",
       "      <td>355 @ SOUTH WESTLAND DRIVE</td>\n",
       "      <td>NaN</td>\n",
       "      <td>NaN</td>\n",
       "      <td>No</td>\n",
       "      <td>No</td>\n",
       "      <td>...</td>\n",
       "      <td>21-405(e1)</td>\n",
       "      <td>Transportation Article</td>\n",
       "      <td>No</td>\n",
       "      <td>WHITE</td>\n",
       "      <td>M</td>\n",
       "      <td>GAITHERSBURG</td>\n",
       "      <td>MD</td>\n",
       "      <td>MD</td>\n",
       "      <td>A - Marked Patrol</td>\n",
       "      <td>NaN</td>\n",
       "    </tr>\n",
       "    <tr>\n",
       "      <th>...</th>\n",
       "      <td>...</td>\n",
       "      <td>...</td>\n",
       "      <td>...</td>\n",
       "      <td>...</td>\n",
       "      <td>...</td>\n",
       "      <td>...</td>\n",
       "      <td>...</td>\n",
       "      <td>...</td>\n",
       "      <td>...</td>\n",
       "      <td>...</td>\n",
       "      <td>...</td>\n",
       "      <td>...</td>\n",
       "      <td>...</td>\n",
       "      <td>...</td>\n",
       "      <td>...</td>\n",
       "      <td>...</td>\n",
       "      <td>...</td>\n",
       "      <td>...</td>\n",
       "      <td>...</td>\n",
       "      <td>...</td>\n",
       "      <td>...</td>\n",
       "    </tr>\n",
       "    <tr>\n",
       "      <th>1292394</th>\n",
       "      <td>12/14/2012</td>\n",
       "      <td>23:56:00</td>\n",
       "      <td>MCP</td>\n",
       "      <td>Headquarters and Special Operations</td>\n",
       "      <td>Stop Lights</td>\n",
       "      <td>LOST KNOFE RD/ MVA</td>\n",
       "      <td>39.156846</td>\n",
       "      <td>-77.202903</td>\n",
       "      <td>No</td>\n",
       "      <td>No</td>\n",
       "      <td>...</td>\n",
       "      <td>64*</td>\n",
       "      <td>NaN</td>\n",
       "      <td>No</td>\n",
       "      <td>BLACK</td>\n",
       "      <td>F</td>\n",
       "      <td>MONTGOMERY VILLAGE</td>\n",
       "      <td>MD</td>\n",
       "      <td>MD</td>\n",
       "      <td>A - Marked Patrol</td>\n",
       "      <td>(39.1568459666667, -77.2029032166667)</td>\n",
       "    </tr>\n",
       "    <tr>\n",
       "      <th>1292395</th>\n",
       "      <td>12/15/2012</td>\n",
       "      <td>00:11:00</td>\n",
       "      <td>MCP</td>\n",
       "      <td>Headquarters and Special Operations</td>\n",
       "      <td>Headlights</td>\n",
       "      <td>MIDCOUNTY HWY/ MILLER FALL DR</td>\n",
       "      <td>39.143137</td>\n",
       "      <td>-77.158675</td>\n",
       "      <td>No</td>\n",
       "      <td>No</td>\n",
       "      <td>...</td>\n",
       "      <td>55*</td>\n",
       "      <td>NaN</td>\n",
       "      <td>No</td>\n",
       "      <td>HISPANIC</td>\n",
       "      <td>M</td>\n",
       "      <td>GAITHERSBURG</td>\n",
       "      <td>MD</td>\n",
       "      <td>MD</td>\n",
       "      <td>A - Marked Patrol</td>\n",
       "      <td>(39.1431373333333, -77.1586750333333)</td>\n",
       "    </tr>\n",
       "    <tr>\n",
       "      <th>1292396</th>\n",
       "      <td>12/15/2012</td>\n",
       "      <td>00:30:00</td>\n",
       "      <td>MCP</td>\n",
       "      <td>Headquarters and Special Operations</td>\n",
       "      <td>Stop Lights</td>\n",
       "      <td>270/ MVA</td>\n",
       "      <td>39.152770</td>\n",
       "      <td>-77.220292</td>\n",
       "      <td>No</td>\n",
       "      <td>No</td>\n",
       "      <td>...</td>\n",
       "      <td>64*</td>\n",
       "      <td>NaN</td>\n",
       "      <td>No</td>\n",
       "      <td>WHITE</td>\n",
       "      <td>F</td>\n",
       "      <td>GERMANTOWN</td>\n",
       "      <td>MD</td>\n",
       "      <td>MD</td>\n",
       "      <td>A - Marked Patrol</td>\n",
       "      <td>(39.1527700833333, -77.2202923833333)</td>\n",
       "    </tr>\n",
       "    <tr>\n",
       "      <th>1292397</th>\n",
       "      <td>12/16/2012</td>\n",
       "      <td>22:55:00</td>\n",
       "      <td>MCP</td>\n",
       "      <td>Headquarters and Special Operations</td>\n",
       "      <td>Tag Lights</td>\n",
       "      <td>MD 97/ ASPEN HILL RD</td>\n",
       "      <td>39.080061</td>\n",
       "      <td>-77.074347</td>\n",
       "      <td>No</td>\n",
       "      <td>No</td>\n",
       "      <td>...</td>\n",
       "      <td>65*</td>\n",
       "      <td>NaN</td>\n",
       "      <td>No</td>\n",
       "      <td>BLACK</td>\n",
       "      <td>F</td>\n",
       "      <td>SILVER SPRING</td>\n",
       "      <td>MD</td>\n",
       "      <td>MD</td>\n",
       "      <td>A - Marked Patrol</td>\n",
       "      <td>(39.0800610666667, -77.0743472)</td>\n",
       "    </tr>\n",
       "    <tr>\n",
       "      <th>1292398</th>\n",
       "      <td>12/21/2012</td>\n",
       "      <td>23:47:00</td>\n",
       "      <td>MCP</td>\n",
       "      <td>Headquarters and Special Operations</td>\n",
       "      <td>Tag Lights</td>\n",
       "      <td>MD 193/ 495</td>\n",
       "      <td>39.017139</td>\n",
       "      <td>-77.006379</td>\n",
       "      <td>No</td>\n",
       "      <td>No</td>\n",
       "      <td>...</td>\n",
       "      <td>65*</td>\n",
       "      <td>NaN</td>\n",
       "      <td>No</td>\n",
       "      <td>BLACK</td>\n",
       "      <td>M</td>\n",
       "      <td>GERMANTOWN</td>\n",
       "      <td>MD</td>\n",
       "      <td>MD</td>\n",
       "      <td>A - Marked Patrol</td>\n",
       "      <td>(39.0171391166667, -77.0063790833333)</td>\n",
       "    </tr>\n",
       "  </tbody>\n",
       "</table>\n",
       "<p>1292399 rows × 35 columns</p>\n",
       "</div>"
      ],
      "text/plain": [
       "        Date Of Stop Time Of Stop Agency  \\\n",
       "0         09/24/2013     17:11:00    MCP   \n",
       "1         08/29/2017     10:19:00    MCP   \n",
       "2         12/01/2014     12:52:00    MCP   \n",
       "3         08/29/2017     09:22:00    MCP   \n",
       "4         08/28/2017     23:41:00    MCP   \n",
       "...              ...          ...    ...   \n",
       "1292394   12/14/2012     23:56:00    MCP   \n",
       "1292395   12/15/2012     00:11:00    MCP   \n",
       "1292396   12/15/2012     00:30:00    MCP   \n",
       "1292397   12/16/2012     22:55:00    MCP   \n",
       "1292398   12/21/2012     23:47:00    MCP   \n",
       "\n",
       "                                               SubAgency  \\\n",
       "0                            3rd district, Silver Spring   \n",
       "1                                 2nd district, Bethesda   \n",
       "2        6th district, Gaithersburg / Montgomery Village   \n",
       "3                            3rd district, Silver Spring   \n",
       "4        6th district, Gaithersburg / Montgomery Village   \n",
       "...                                                  ...   \n",
       "1292394              Headquarters and Special Operations   \n",
       "1292395              Headquarters and Special Operations   \n",
       "1292396              Headquarters and Special Operations   \n",
       "1292397              Headquarters and Special Operations   \n",
       "1292398              Headquarters and Special Operations   \n",
       "\n",
       "                                               Description  \\\n",
       "0        DRIVING VEHICLE ON HIGHWAY WITH SUSPENDED REGI...   \n",
       "1        DRIVER FAILURE TO OBEY PROPERLY PLACED TRAFFIC...   \n",
       "2                       FAILURE STOP AND YIELD AT THRU HWY   \n",
       "3                     FAILURE YIELD RIGHT OF WAY ON U TURN   \n",
       "4        FAILURE OF DR. TO MAKE LANE CHANGE TO AVAIL. L...   \n",
       "...                                                    ...   \n",
       "1292394                                        Stop Lights   \n",
       "1292395                                         Headlights   \n",
       "1292396                                        Stop Lights   \n",
       "1292397                                         Tag Lights   \n",
       "1292398                                         Tag Lights   \n",
       "\n",
       "                                       Location   Latitude  Longitude  \\\n",
       "0                               8804 FLOWER AVE        NaN        NaN   \n",
       "1                         WISCONSIN AVE@ ELM ST  38.981725 -77.092757   \n",
       "2        CHRISTOPHER AVE/MONTGOMERY VILLAGE AVE  39.162888 -77.229088   \n",
       "3               CHERRY HILL RD./CALVERTON BLVD.  39.056975 -76.954633   \n",
       "4                    355 @ SOUTH WESTLAND DRIVE        NaN        NaN   \n",
       "...                                         ...        ...        ...   \n",
       "1292394                      LOST KNOFE RD/ MVA  39.156846 -77.202903   \n",
       "1292395           MIDCOUNTY HWY/ MILLER FALL DR  39.143137 -77.158675   \n",
       "1292396                                270/ MVA  39.152770 -77.220292   \n",
       "1292397                    MD 97/ ASPEN HILL RD  39.080061 -77.074347   \n",
       "1292398                             MD 193/ 495  39.017139 -77.006379   \n",
       "\n",
       "        Accident Belts  ...      Charge                 Article  \\\n",
       "0             No    No  ...   13-401(h)  Transportation Article   \n",
       "1             No    No  ...  21-201(a1)  Transportation Article   \n",
       "2             No    No  ...   21-403(b)  Transportation Article   \n",
       "3             No    No  ...   21-402(b)  Transportation Article   \n",
       "4             No    No  ...  21-405(e1)  Transportation Article   \n",
       "...          ...   ...  ...         ...                     ...   \n",
       "1292394       No    No  ...         64*                     NaN   \n",
       "1292395       No    No  ...         55*                     NaN   \n",
       "1292396       No    No  ...         64*                     NaN   \n",
       "1292397       No    No  ...         65*                     NaN   \n",
       "1292398       No    No  ...         65*                     NaN   \n",
       "\n",
       "        Contributed To Accident      Race Gender         Driver City  \\\n",
       "0                            No     BLACK      M         TAKOMA PARK   \n",
       "1                            No     WHITE      F     FAIRFAX STATION   \n",
       "2                            No     BLACK      F      UPPER MARLBORO   \n",
       "3                            No     BLACK      M     FORT WASHINGTON   \n",
       "4                            No     WHITE      M        GAITHERSBURG   \n",
       "...                         ...       ...    ...                 ...   \n",
       "1292394                      No     BLACK      F  MONTGOMERY VILLAGE   \n",
       "1292395                      No  HISPANIC      M        GAITHERSBURG   \n",
       "1292396                      No     WHITE      F          GERMANTOWN   \n",
       "1292397                      No     BLACK      F       SILVER SPRING   \n",
       "1292398                      No     BLACK      M          GERMANTOWN   \n",
       "\n",
       "        Driver State DL State        Arrest Type  \\\n",
       "0                 MD       MD  A - Marked Patrol   \n",
       "1                 VA       VA  A - Marked Patrol   \n",
       "2                 MD       MD  A - Marked Patrol   \n",
       "3                 MD       MD  A - Marked Patrol   \n",
       "4                 MD       MD  A - Marked Patrol   \n",
       "...              ...      ...                ...   \n",
       "1292394           MD       MD  A - Marked Patrol   \n",
       "1292395           MD       MD  A - Marked Patrol   \n",
       "1292396           MD       MD  A - Marked Patrol   \n",
       "1292397           MD       MD  A - Marked Patrol   \n",
       "1292398           MD       MD  A - Marked Patrol   \n",
       "\n",
       "                                   Geolocation  \n",
       "0                                          NaN  \n",
       "1               (38.981725, -77.0927566666667)  \n",
       "2        (39.1628883333333, -77.2290883333333)  \n",
       "3               (39.056975, -76.9546333333333)  \n",
       "4                                          NaN  \n",
       "...                                        ...  \n",
       "1292394  (39.1568459666667, -77.2029032166667)  \n",
       "1292395  (39.1431373333333, -77.1586750333333)  \n",
       "1292396  (39.1527700833333, -77.2202923833333)  \n",
       "1292397        (39.0800610666667, -77.0743472)  \n",
       "1292398  (39.0171391166667, -77.0063790833333)  \n",
       "\n",
       "[1292399 rows x 35 columns]"
      ]
     },
     "execution_count": 2,
     "metadata": {},
     "output_type": "execute_result"
    }
   ],
   "source": [
    "#Display the dataframe after loading the csv file\n",
    "traffic_violations_df = pd.read_csv(\"Traffic_Violations.csv\")\n",
    "traffic_violations_df"
   ]
  },
  {
   "cell_type": "markdown",
   "metadata": {
    "id": "OOdH31XvY1HK"
   },
   "source": [
    "### Initial State of the database"
   ]
  },
  {
   "cell_type": "markdown",
   "metadata": {
    "id": "NLe6tzIBY1HL"
   },
   "source": [
    "Display column names."
   ]
  },
  {
   "cell_type": "code",
   "execution_count": 3,
   "metadata": {
    "colab": {
     "base_uri": "https://localhost:8080/"
    },
    "id": "9JmkT2izY1HL",
    "outputId": "db858af3-3a9e-4a4e-9b67-8785cc529e75"
   },
   "outputs": [
    {
     "data": {
      "text/plain": [
       "Index(['Date Of Stop', 'Time Of Stop', 'Agency', 'SubAgency', 'Description',\n",
       "       'Location', 'Latitude', 'Longitude', 'Accident', 'Belts',\n",
       "       'Personal Injury', 'Property Damage', 'Fatal', 'Commercial License',\n",
       "       'HAZMAT', 'Commercial Vehicle', 'Alcohol', 'Work Zone', 'State',\n",
       "       'VehicleType', 'Year', 'Make', 'Model', 'Color', 'Violation Type',\n",
       "       'Charge', 'Article', 'Contributed To Accident', 'Race', 'Gender',\n",
       "       'Driver City', 'Driver State', 'DL State', 'Arrest Type',\n",
       "       'Geolocation'],\n",
       "      dtype='object')"
      ]
     },
     "execution_count": 3,
     "metadata": {},
     "output_type": "execute_result"
    }
   ],
   "source": [
    "#Display the column list\n",
    "traffic_violations_df.columns"
   ]
  },
  {
   "cell_type": "markdown",
   "metadata": {
    "id": "yhLApeSfY1HM"
   },
   "source": [
    "Display column types."
   ]
  },
  {
   "cell_type": "code",
   "execution_count": 4,
   "metadata": {
    "colab": {
     "base_uri": "https://localhost:8080/"
    },
    "id": "n9gy7NwmY1HM",
    "outputId": "35522d81-b3b2-4233-ffd3-cfe00b4b789b"
   },
   "outputs": [
    {
     "data": {
      "text/plain": [
       "Date Of Stop                object\n",
       "Time Of Stop                object\n",
       "Agency                      object\n",
       "SubAgency                   object\n",
       "Description                 object\n",
       "Location                    object\n",
       "Latitude                   float64\n",
       "Longitude                  float64\n",
       "Accident                    object\n",
       "Belts                       object\n",
       "Personal Injury             object\n",
       "Property Damage             object\n",
       "Fatal                       object\n",
       "Commercial License          object\n",
       "HAZMAT                      object\n",
       "Commercial Vehicle          object\n",
       "Alcohol                     object\n",
       "Work Zone                   object\n",
       "State                       object\n",
       "VehicleType                 object\n",
       "Year                       float64\n",
       "Make                        object\n",
       "Model                       object\n",
       "Color                       object\n",
       "Violation Type              object\n",
       "Charge                      object\n",
       "Article                     object\n",
       "Contributed To Accident     object\n",
       "Race                        object\n",
       "Gender                      object\n",
       "Driver City                 object\n",
       "Driver State                object\n",
       "DL State                    object\n",
       "Arrest Type                 object\n",
       "Geolocation                 object\n",
       "dtype: object"
      ]
     },
     "execution_count": 4,
     "metadata": {},
     "output_type": "execute_result"
    }
   ],
   "source": [
    "#Display the datatype the original dataset\n",
    "traffic_violations_df.dtypes"
   ]
  },
  {
   "cell_type": "markdown",
   "metadata": {
    "id": "JYz0-g06Y1HM"
   },
   "source": [
    "Display the number of rows and columns."
   ]
  },
  {
   "cell_type": "code",
   "execution_count": 5,
   "metadata": {
    "colab": {
     "base_uri": "https://localhost:8080/"
    },
    "id": "fM33Dk-gY1HN",
    "outputId": "8835549c-9c2a-4add-e680-6e2d401ec989"
   },
   "outputs": [
    {
     "name": "stdout",
     "output_type": "stream",
     "text": [
      "Number of rows:  1292399\n",
      "Number of columns:  35\n"
     ]
    }
   ],
   "source": [
    "#Display the number of rows and columns\n",
    "number_of_rows, number_of_columns = traffic_violations_df.shape\n",
    "print(\"Number of rows: \", number_of_rows)\n",
    "print(\"Number of columns: \", number_of_columns)"
   ]
  },
  {
   "cell_type": "markdown",
   "metadata": {
    "id": "KFuaR7R4Y1HN"
   },
   "source": [
    "Check if there is any missing value."
   ]
  },
  {
   "cell_type": "code",
   "execution_count": 6,
   "metadata": {
    "colab": {
     "base_uri": "https://localhost:8080/"
    },
    "id": "5d6vVceEY1HN",
    "outputId": "18904e18-c842-49bb-9999-0d30033ac62a"
   },
   "outputs": [
    {
     "data": {
      "text/plain": [
       "Date Of Stop               1292399\n",
       "Time Of Stop               1292399\n",
       "Agency                     1292399\n",
       "SubAgency                  1292389\n",
       "Description                1292390\n",
       "Location                   1292397\n",
       "Latitude                   1197045\n",
       "Longitude                  1197045\n",
       "Accident                   1292399\n",
       "Belts                      1292399\n",
       "Personal Injury            1292399\n",
       "Property Damage            1292399\n",
       "Fatal                      1292399\n",
       "Commercial License         1292399\n",
       "HAZMAT                     1292399\n",
       "Commercial Vehicle         1292399\n",
       "Alcohol                    1292399\n",
       "Work Zone                  1292399\n",
       "State                      1292340\n",
       "VehicleType                1292399\n",
       "Year                       1284325\n",
       "Make                       1292342\n",
       "Model                      1292212\n",
       "Color                      1276272\n",
       "Violation Type             1292399\n",
       "Charge                     1292399\n",
       "Article                    1227230\n",
       "Contributed To Accident    1292399\n",
       "Race                       1292399\n",
       "Gender                     1292399\n",
       "Driver City                1292182\n",
       "Driver State               1292388\n",
       "DL State                   1291470\n",
       "Arrest Type                1292399\n",
       "Geolocation                1197045\n",
       "dtype: int64"
      ]
     },
     "execution_count": 6,
     "metadata": {},
     "output_type": "execute_result"
    }
   ],
   "source": [
    "#Use a count function to identify which row has a missing value\n",
    "traffic_violations_df.count()"
   ]
  },
  {
   "cell_type": "markdown",
   "metadata": {
    "id": "C3MGdGRCY1HP"
   },
   "source": [
    "As we can see, some of the columns have less number of rows counts, which indicates there are missing values."
   ]
  },
  {
   "cell_type": "markdown",
   "metadata": {
    "id": "egkE10JGY1HO"
   },
   "source": [
    "Count the number of duplicate rows so that we can remove the duplicates."
   ]
  },
  {
   "cell_type": "code",
   "execution_count": 7,
   "metadata": {
    "colab": {
     "base_uri": "https://localhost:8080/"
    },
    "id": "TSFOycuOY1HO",
    "outputId": "dbaf3433-0269-4c09-a7b8-478024304dc9"
   },
   "outputs": [
    {
     "name": "stdout",
     "output_type": "stream",
     "text": [
      "Duplicate entries:  1588\n"
     ]
    }
   ],
   "source": [
    "duplicate_rows = traffic_violations_df.duplicated()\n",
    "print(\"Duplicate entries: \", traffic_violations_df[duplicate_rows].shape[0])"
   ]
  },
  {
   "cell_type": "code",
   "execution_count": 8,
   "metadata": {
    "colab": {
     "base_uri": "https://localhost:8080/"
    },
    "id": "fsmppMztY1HP",
    "outputId": "854ffab2-687e-4967-a06f-d8c8ffaf742d"
   },
   "outputs": [
    {
     "data": {
      "text/plain": [
       "Date Of Stop                   0\n",
       "Time Of Stop                   0\n",
       "Agency                         0\n",
       "SubAgency                     10\n",
       "Description                    9\n",
       "Location                       2\n",
       "Latitude                   95354\n",
       "Longitude                  95354\n",
       "Accident                       0\n",
       "Belts                          0\n",
       "Personal Injury                0\n",
       "Property Damage                0\n",
       "Fatal                          0\n",
       "Commercial License             0\n",
       "HAZMAT                         0\n",
       "Commercial Vehicle             0\n",
       "Alcohol                        0\n",
       "Work Zone                      0\n",
       "State                         59\n",
       "VehicleType                    0\n",
       "Year                        8074\n",
       "Make                          57\n",
       "Model                        187\n",
       "Color                      16127\n",
       "Violation Type                 0\n",
       "Charge                         0\n",
       "Article                    65169\n",
       "Contributed To Accident        0\n",
       "Race                           0\n",
       "Gender                         0\n",
       "Driver City                  217\n",
       "Driver State                  11\n",
       "DL State                     929\n",
       "Arrest Type                    0\n",
       "Geolocation                95354\n",
       "dtype: int64"
      ]
     },
     "execution_count": 8,
     "metadata": {},
     "output_type": "execute_result"
    }
   ],
   "source": [
    "# Check which columns have a missing vlaue\n",
    "missing_values_count = traffic_violations_df.isnull().sum()\n",
    "missing_values_count"
   ]
  },
  {
   "cell_type": "markdown",
   "metadata": {
    "id": "2tlyOqqveo4i"
   },
   "source": [
    "## Now Clean the Dataset"
   ]
  },
  {
   "cell_type": "markdown",
   "metadata": {
    "id": "cTkgog0-fFg2"
   },
   "source": [
    "### Remove the duplicate rows"
   ]
  },
  {
   "cell_type": "code",
   "execution_count": 9,
   "metadata": {
    "id": "6e-zoWa3Y1HP"
   },
   "outputs": [],
   "source": [
    "traffic_violations_df = traffic_violations_df.drop_duplicates()"
   ]
  },
  {
   "cell_type": "markdown",
   "metadata": {
    "id": "j5JYLyvrfbek"
   },
   "source": [
    "### Remove the missing value"
   ]
  },
  {
   "cell_type": "code",
   "execution_count": 10,
   "metadata": {
    "id": "9sjpnhUzY1HP"
   },
   "outputs": [],
   "source": [
    "traffic_violations_df = traffic_violations_df.dropna()"
   ]
  },
  {
   "cell_type": "markdown",
   "metadata": {
    "id": "KhBYkj_8Y1HO"
   },
   "source": [
    "### Now, convert the 'Date Of Stop' column to datetime format."
   ]
  },
  {
   "cell_type": "code",
   "execution_count": 11,
   "metadata": {
    "id": "D-wFTy7MY1HO"
   },
   "outputs": [],
   "source": [
    "# Convert the data type of date to datetime type\n",
    "traffic_violations_df['Date Of Stop'] = pd.to_datetime(traffic_violations_df['Date Of Stop'], format='%m/%d/%Y', dayfirst=True)"
   ]
  },
  {
   "cell_type": "code",
   "execution_count": 12,
   "metadata": {
    "id": "7hJTnctUY1HP"
   },
   "outputs": [],
   "source": [
    "# change the data type of time to datetime\n",
    "traffic_violations_df['Time Of Stop'] = pd.to_datetime(traffic_violations_df['Time Of Stop'], format=\"%H:%M:%S\").dt.time"
   ]
  },
  {
   "cell_type": "code",
   "execution_count": 13,
   "metadata": {
    "id": "QqdJZkycCd11"
   },
   "outputs": [],
   "source": [
    "traffic_violations_df['Year'] = traffic_violations_df['Year'].astype('int32')"
   ]
  },
  {
   "cell_type": "markdown",
   "metadata": {
    "id": "3GXzL8xigfV8"
   },
   "source": [
    "### Drop duplicate feature \"column\" Geolocation as it is already in columns Latitude Longitude"
   ]
  },
  {
   "cell_type": "code",
   "execution_count": 14,
   "metadata": {
    "id": "nAsFKhqCY1HR"
   },
   "outputs": [],
   "source": [
    "traffic_violations_df.drop(['Geolocation', 'Agency', 'Article', 'Color','Accident'], axis='columns', inplace=True)"
   ]
  },
  {
   "cell_type": "markdown",
   "metadata": {
    "id": "lGk0YW0thbco"
   },
   "source": [
    "### Change the value 'Yes' into 1 and 'No' into 0 for some features"
   ]
  },
  {
   "cell_type": "code",
   "execution_count": 15,
   "metadata": {
    "id": "euwsdNp7Y1HQ"
   },
   "outputs": [],
   "source": [
    "traffic_violations_df['Belts'] = traffic_violations_df['Belts'].map({'Yes': 1, 'No': 0})\n",
    "traffic_violations_df['Personal Injury'] = traffic_violations_df['Personal Injury'].map({'Yes': 1, 'No': 0})\n",
    "traffic_violations_df['Property Damage'] = traffic_violations_df['Property Damage'].map({'Yes': 1, 'No': 0})\n",
    "traffic_violations_df['Commercial License'] = traffic_violations_df['Commercial License'].map({'Yes': 1, 'No': 0})\n",
    "traffic_violations_df['Commercial Vehicle'] = traffic_violations_df['Commercial Vehicle'].map({'Yes': 1, 'No': 0})\n",
    "traffic_violations_df['Alcohol'] = traffic_violations_df['Alcohol'].map({'Yes': 1, 'No': 0})\n",
    "traffic_violations_df['Work Zone'] = traffic_violations_df['Work Zone'].map({'Yes': 1, 'No': 0})\n",
    "traffic_violations_df['HAZMAT'] = traffic_violations_df['HAZMAT'].map({'Yes': 1, 'No': 0})\n",
    "traffic_violations_df['Contributed To Accident'] = traffic_violations_df['Contributed To Accident'].map({'Yes': 1, 'No': 0})"
   ]
  },
  {
   "cell_type": "markdown",
   "metadata": {
    "id": "bzoc3QkKiSNO"
   },
   "source": [
    "### Now Check the cleaned dataframe"
   ]
  },
  {
   "cell_type": "code",
   "execution_count": 16,
   "metadata": {
    "colab": {
     "base_uri": "https://localhost:8080/",
     "height": 1000
    },
    "id": "KDXdb_kzY1HR",
    "outputId": "b53be1cf-2854-4b0b-be67-bedd7dd2f2d1"
   },
   "outputs": [
    {
     "data": {
      "text/html": [
       "<div>\n",
       "<style scoped>\n",
       "    .dataframe tbody tr th:only-of-type {\n",
       "        vertical-align: middle;\n",
       "    }\n",
       "\n",
       "    .dataframe tbody tr th {\n",
       "        vertical-align: top;\n",
       "    }\n",
       "\n",
       "    .dataframe thead th {\n",
       "        text-align: right;\n",
       "    }\n",
       "</style>\n",
       "<table border=\"1\" class=\"dataframe\">\n",
       "  <thead>\n",
       "    <tr style=\"text-align: right;\">\n",
       "      <th></th>\n",
       "      <th>Date Of Stop</th>\n",
       "      <th>Time Of Stop</th>\n",
       "      <th>SubAgency</th>\n",
       "      <th>Description</th>\n",
       "      <th>Location</th>\n",
       "      <th>Latitude</th>\n",
       "      <th>Longitude</th>\n",
       "      <th>Belts</th>\n",
       "      <th>Personal Injury</th>\n",
       "      <th>Property Damage</th>\n",
       "      <th>...</th>\n",
       "      <th>Model</th>\n",
       "      <th>Violation Type</th>\n",
       "      <th>Charge</th>\n",
       "      <th>Contributed To Accident</th>\n",
       "      <th>Race</th>\n",
       "      <th>Gender</th>\n",
       "      <th>Driver City</th>\n",
       "      <th>Driver State</th>\n",
       "      <th>DL State</th>\n",
       "      <th>Arrest Type</th>\n",
       "    </tr>\n",
       "  </thead>\n",
       "  <tbody>\n",
       "    <tr>\n",
       "      <th>1</th>\n",
       "      <td>2017-08-29</td>\n",
       "      <td>10:19:00</td>\n",
       "      <td>2nd district, Bethesda</td>\n",
       "      <td>DRIVER FAILURE TO OBEY PROPERLY PLACED TRAFFIC...</td>\n",
       "      <td>WISCONSIN AVE@ ELM ST</td>\n",
       "      <td>38.981725</td>\n",
       "      <td>-77.092757</td>\n",
       "      <td>0</td>\n",
       "      <td>0</td>\n",
       "      <td>0</td>\n",
       "      <td>...</td>\n",
       "      <td>COROLLA</td>\n",
       "      <td>Citation</td>\n",
       "      <td>21-201(a1)</td>\n",
       "      <td>0</td>\n",
       "      <td>WHITE</td>\n",
       "      <td>F</td>\n",
       "      <td>FAIRFAX STATION</td>\n",
       "      <td>VA</td>\n",
       "      <td>VA</td>\n",
       "      <td>A - Marked Patrol</td>\n",
       "    </tr>\n",
       "    <tr>\n",
       "      <th>2</th>\n",
       "      <td>2014-12-01</td>\n",
       "      <td>12:52:00</td>\n",
       "      <td>6th district, Gaithersburg / Montgomery Village</td>\n",
       "      <td>FAILURE STOP AND YIELD AT THRU HWY</td>\n",
       "      <td>CHRISTOPHER AVE/MONTGOMERY VILLAGE AVE</td>\n",
       "      <td>39.162888</td>\n",
       "      <td>-77.229088</td>\n",
       "      <td>0</td>\n",
       "      <td>0</td>\n",
       "      <td>1</td>\n",
       "      <td>...</td>\n",
       "      <td>ACCORD</td>\n",
       "      <td>Citation</td>\n",
       "      <td>21-403(b)</td>\n",
       "      <td>0</td>\n",
       "      <td>BLACK</td>\n",
       "      <td>F</td>\n",
       "      <td>UPPER MARLBORO</td>\n",
       "      <td>MD</td>\n",
       "      <td>MD</td>\n",
       "      <td>A - Marked Patrol</td>\n",
       "    </tr>\n",
       "    <tr>\n",
       "      <th>3</th>\n",
       "      <td>2017-08-29</td>\n",
       "      <td>09:22:00</td>\n",
       "      <td>3rd district, Silver Spring</td>\n",
       "      <td>FAILURE YIELD RIGHT OF WAY ON U TURN</td>\n",
       "      <td>CHERRY HILL RD./CALVERTON BLVD.</td>\n",
       "      <td>39.056975</td>\n",
       "      <td>-76.954633</td>\n",
       "      <td>0</td>\n",
       "      <td>0</td>\n",
       "      <td>1</td>\n",
       "      <td>...</td>\n",
       "      <td>DAKOTA</td>\n",
       "      <td>Citation</td>\n",
       "      <td>21-402(b)</td>\n",
       "      <td>0</td>\n",
       "      <td>BLACK</td>\n",
       "      <td>M</td>\n",
       "      <td>FORT WASHINGTON</td>\n",
       "      <td>MD</td>\n",
       "      <td>MD</td>\n",
       "      <td>A - Marked Patrol</td>\n",
       "    </tr>\n",
       "    <tr>\n",
       "      <th>6</th>\n",
       "      <td>2013-10-08</td>\n",
       "      <td>13:23:00</td>\n",
       "      <td>4th district, Wheaton</td>\n",
       "      <td>DRIVING VEHICLE ON HIGHWAY WITH SUSPENDED REGI...</td>\n",
       "      <td>GEORGIA AVE / BEL PRE RD</td>\n",
       "      <td>39.093383</td>\n",
       "      <td>-77.079552</td>\n",
       "      <td>0</td>\n",
       "      <td>0</td>\n",
       "      <td>0</td>\n",
       "      <td>...</td>\n",
       "      <td>PICKUP</td>\n",
       "      <td>Citation</td>\n",
       "      <td>13-401(h)</td>\n",
       "      <td>0</td>\n",
       "      <td>HISPANIC</td>\n",
       "      <td>M</td>\n",
       "      <td>BELTSVILLE</td>\n",
       "      <td>MD</td>\n",
       "      <td>MD</td>\n",
       "      <td>A - Marked Patrol</td>\n",
       "    </tr>\n",
       "    <tr>\n",
       "      <th>10</th>\n",
       "      <td>2014-02-14</td>\n",
       "      <td>20:10:00</td>\n",
       "      <td>1st district, Rockville</td>\n",
       "      <td>FAILURE TO DRIVE ON RIGHT HAND ROADWAY OF DIVI...</td>\n",
       "      <td>GATEWAY CENTER DR @ CLARKSBURG RD</td>\n",
       "      <td>39.234843</td>\n",
       "      <td>-77.281540</td>\n",
       "      <td>0</td>\n",
       "      <td>0</td>\n",
       "      <td>0</td>\n",
       "      <td>...</td>\n",
       "      <td>STS</td>\n",
       "      <td>Citation</td>\n",
       "      <td>21-311(1)</td>\n",
       "      <td>0</td>\n",
       "      <td>WHITE</td>\n",
       "      <td>M</td>\n",
       "      <td>POINT OF ROCK</td>\n",
       "      <td>MD</td>\n",
       "      <td>WV</td>\n",
       "      <td>A - Marked Patrol</td>\n",
       "    </tr>\n",
       "    <tr>\n",
       "      <th>...</th>\n",
       "      <td>...</td>\n",
       "      <td>...</td>\n",
       "      <td>...</td>\n",
       "      <td>...</td>\n",
       "      <td>...</td>\n",
       "      <td>...</td>\n",
       "      <td>...</td>\n",
       "      <td>...</td>\n",
       "      <td>...</td>\n",
       "      <td>...</td>\n",
       "      <td>...</td>\n",
       "      <td>...</td>\n",
       "      <td>...</td>\n",
       "      <td>...</td>\n",
       "      <td>...</td>\n",
       "      <td>...</td>\n",
       "      <td>...</td>\n",
       "      <td>...</td>\n",
       "      <td>...</td>\n",
       "      <td>...</td>\n",
       "      <td>...</td>\n",
       "    </tr>\n",
       "    <tr>\n",
       "      <th>1291736</th>\n",
       "      <td>2012-11-12</td>\n",
       "      <td>09:40:00</td>\n",
       "      <td>6th district, Gaithersburg / Montgomery Village</td>\n",
       "      <td>EXCEEDING THE POSTED SPEED LIMIT OF 35 MPH</td>\n",
       "      <td>CLOPPER ROAD AT ORCHARD RIDGE DRIVE</td>\n",
       "      <td>39.147593</td>\n",
       "      <td>-77.234835</td>\n",
       "      <td>0</td>\n",
       "      <td>0</td>\n",
       "      <td>0</td>\n",
       "      <td>...</td>\n",
       "      <td>SABLE</td>\n",
       "      <td>Warning</td>\n",
       "      <td>21-801.1</td>\n",
       "      <td>0</td>\n",
       "      <td>BLACK</td>\n",
       "      <td>F</td>\n",
       "      <td>GERMANTOWN</td>\n",
       "      <td>MD</td>\n",
       "      <td>MD</td>\n",
       "      <td>A - Marked Patrol</td>\n",
       "    </tr>\n",
       "    <tr>\n",
       "      <th>1291737</th>\n",
       "      <td>2012-11-12</td>\n",
       "      <td>09:51:00</td>\n",
       "      <td>6th district, Gaithersburg / Montgomery Village</td>\n",
       "      <td>EXCEEDING THE POSTED SPEED LIMIT OF 35 MPH</td>\n",
       "      <td>CLOPPER ROAD AT ORCHARD RIDGE DRIVE</td>\n",
       "      <td>39.147572</td>\n",
       "      <td>-77.234841</td>\n",
       "      <td>0</td>\n",
       "      <td>0</td>\n",
       "      <td>0</td>\n",
       "      <td>...</td>\n",
       "      <td>ECLIPSE</td>\n",
       "      <td>Warning</td>\n",
       "      <td>21-801.1</td>\n",
       "      <td>0</td>\n",
       "      <td>WHITE</td>\n",
       "      <td>M</td>\n",
       "      <td>GERMANTOWN</td>\n",
       "      <td>MD</td>\n",
       "      <td>MD</td>\n",
       "      <td>Q - Marked Laser</td>\n",
       "    </tr>\n",
       "    <tr>\n",
       "      <th>1291738</th>\n",
       "      <td>2012-11-12</td>\n",
       "      <td>10:21:00</td>\n",
       "      <td>6th district, Gaithersburg / Montgomery Village</td>\n",
       "      <td>EXCEEDING THE POSTED SPEED LIMIT OF 40 MPH</td>\n",
       "      <td>FREDERICK AVE AT PROFESSIONAL DR</td>\n",
       "      <td>39.162809</td>\n",
       "      <td>-77.225643</td>\n",
       "      <td>0</td>\n",
       "      <td>0</td>\n",
       "      <td>0</td>\n",
       "      <td>...</td>\n",
       "      <td>CIICIC</td>\n",
       "      <td>Warning</td>\n",
       "      <td>21-801.1</td>\n",
       "      <td>0</td>\n",
       "      <td>ASIAN</td>\n",
       "      <td>F</td>\n",
       "      <td>FREDERICK</td>\n",
       "      <td>MD</td>\n",
       "      <td>MD</td>\n",
       "      <td>Q - Marked Laser</td>\n",
       "    </tr>\n",
       "    <tr>\n",
       "      <th>1291739</th>\n",
       "      <td>2012-11-12</td>\n",
       "      <td>10:34:00</td>\n",
       "      <td>6th district, Gaithersburg / Montgomery Village</td>\n",
       "      <td>EXCEEDING THE POSTED SPEED LIMIT OF 40 MPH</td>\n",
       "      <td>FREDERICK AVE AT PROFESSIONAL DR</td>\n",
       "      <td>39.161533</td>\n",
       "      <td>-77.223629</td>\n",
       "      <td>0</td>\n",
       "      <td>0</td>\n",
       "      <td>0</td>\n",
       "      <td>...</td>\n",
       "      <td>COOPER</td>\n",
       "      <td>Warning</td>\n",
       "      <td>21-801.1</td>\n",
       "      <td>0</td>\n",
       "      <td>WHITE</td>\n",
       "      <td>M</td>\n",
       "      <td>DAMASCUS</td>\n",
       "      <td>MD</td>\n",
       "      <td>MD</td>\n",
       "      <td>Q - Marked Laser</td>\n",
       "    </tr>\n",
       "    <tr>\n",
       "      <th>1291740</th>\n",
       "      <td>2012-11-12</td>\n",
       "      <td>12:57:00</td>\n",
       "      <td>6th district, Gaithersburg / Montgomery Village</td>\n",
       "      <td>EXCEEDING THE POSTED SPEED LIMIT OF 30 MPH</td>\n",
       "      <td>EAST VILLAGE AVE AT BAY POINT PL</td>\n",
       "      <td>39.187870</td>\n",
       "      <td>-77.160296</td>\n",
       "      <td>0</td>\n",
       "      <td>0</td>\n",
       "      <td>0</td>\n",
       "      <td>...</td>\n",
       "      <td>ODYSSEY</td>\n",
       "      <td>Warning</td>\n",
       "      <td>21-801.1</td>\n",
       "      <td>0</td>\n",
       "      <td>BLACK</td>\n",
       "      <td>F</td>\n",
       "      <td>MONTGOMERY VILLAGE</td>\n",
       "      <td>MD</td>\n",
       "      <td>MD</td>\n",
       "      <td>Q - Marked Laser</td>\n",
       "    </tr>\n",
       "  </tbody>\n",
       "</table>\n",
       "<p>1119016 rows × 30 columns</p>\n",
       "</div>"
      ],
      "text/plain": [
       "        Date Of Stop Time Of Stop  \\\n",
       "1         2017-08-29     10:19:00   \n",
       "2         2014-12-01     12:52:00   \n",
       "3         2017-08-29     09:22:00   \n",
       "6         2013-10-08     13:23:00   \n",
       "10        2014-02-14     20:10:00   \n",
       "...              ...          ...   \n",
       "1291736   2012-11-12     09:40:00   \n",
       "1291737   2012-11-12     09:51:00   \n",
       "1291738   2012-11-12     10:21:00   \n",
       "1291739   2012-11-12     10:34:00   \n",
       "1291740   2012-11-12     12:57:00   \n",
       "\n",
       "                                               SubAgency  \\\n",
       "1                                 2nd district, Bethesda   \n",
       "2        6th district, Gaithersburg / Montgomery Village   \n",
       "3                            3rd district, Silver Spring   \n",
       "6                                  4th district, Wheaton   \n",
       "10                               1st district, Rockville   \n",
       "...                                                  ...   \n",
       "1291736  6th district, Gaithersburg / Montgomery Village   \n",
       "1291737  6th district, Gaithersburg / Montgomery Village   \n",
       "1291738  6th district, Gaithersburg / Montgomery Village   \n",
       "1291739  6th district, Gaithersburg / Montgomery Village   \n",
       "1291740  6th district, Gaithersburg / Montgomery Village   \n",
       "\n",
       "                                               Description  \\\n",
       "1        DRIVER FAILURE TO OBEY PROPERLY PLACED TRAFFIC...   \n",
       "2                       FAILURE STOP AND YIELD AT THRU HWY   \n",
       "3                     FAILURE YIELD RIGHT OF WAY ON U TURN   \n",
       "6        DRIVING VEHICLE ON HIGHWAY WITH SUSPENDED REGI...   \n",
       "10       FAILURE TO DRIVE ON RIGHT HAND ROADWAY OF DIVI...   \n",
       "...                                                    ...   \n",
       "1291736         EXCEEDING THE POSTED SPEED LIMIT OF 35 MPH   \n",
       "1291737         EXCEEDING THE POSTED SPEED LIMIT OF 35 MPH   \n",
       "1291738         EXCEEDING THE POSTED SPEED LIMIT OF 40 MPH   \n",
       "1291739         EXCEEDING THE POSTED SPEED LIMIT OF 40 MPH   \n",
       "1291740         EXCEEDING THE POSTED SPEED LIMIT OF 30 MPH   \n",
       "\n",
       "                                       Location   Latitude  Longitude  Belts  \\\n",
       "1                         WISCONSIN AVE@ ELM ST  38.981725 -77.092757      0   \n",
       "2        CHRISTOPHER AVE/MONTGOMERY VILLAGE AVE  39.162888 -77.229088      0   \n",
       "3               CHERRY HILL RD./CALVERTON BLVD.  39.056975 -76.954633      0   \n",
       "6                      GEORGIA AVE / BEL PRE RD  39.093383 -77.079552      0   \n",
       "10            GATEWAY CENTER DR @ CLARKSBURG RD  39.234843 -77.281540      0   \n",
       "...                                         ...        ...        ...    ...   \n",
       "1291736     CLOPPER ROAD AT ORCHARD RIDGE DRIVE  39.147593 -77.234835      0   \n",
       "1291737     CLOPPER ROAD AT ORCHARD RIDGE DRIVE  39.147572 -77.234841      0   \n",
       "1291738        FREDERICK AVE AT PROFESSIONAL DR  39.162809 -77.225643      0   \n",
       "1291739        FREDERICK AVE AT PROFESSIONAL DR  39.161533 -77.223629      0   \n",
       "1291740        EAST VILLAGE AVE AT BAY POINT PL  39.187870 -77.160296      0   \n",
       "\n",
       "         Personal Injury  Property Damage  ...    Model  Violation Type  \\\n",
       "1                      0                0  ...  COROLLA        Citation   \n",
       "2                      0                1  ...   ACCORD        Citation   \n",
       "3                      0                1  ...   DAKOTA        Citation   \n",
       "6                      0                0  ...   PICKUP        Citation   \n",
       "10                     0                0  ...      STS        Citation   \n",
       "...                  ...              ...  ...      ...             ...   \n",
       "1291736                0                0  ...    SABLE         Warning   \n",
       "1291737                0                0  ...  ECLIPSE         Warning   \n",
       "1291738                0                0  ...   CIICIC         Warning   \n",
       "1291739                0                0  ...   COOPER         Warning   \n",
       "1291740                0                0  ...  ODYSSEY         Warning   \n",
       "\n",
       "             Charge  Contributed To Accident      Race  Gender  \\\n",
       "1        21-201(a1)                        0     WHITE       F   \n",
       "2         21-403(b)                        0     BLACK       F   \n",
       "3         21-402(b)                        0     BLACK       M   \n",
       "6         13-401(h)                        0  HISPANIC       M   \n",
       "10        21-311(1)                        0     WHITE       M   \n",
       "...             ...                      ...       ...     ...   \n",
       "1291736    21-801.1                        0     BLACK       F   \n",
       "1291737    21-801.1                        0     WHITE       M   \n",
       "1291738    21-801.1                        0     ASIAN       F   \n",
       "1291739    21-801.1                        0     WHITE       M   \n",
       "1291740    21-801.1                        0     BLACK       F   \n",
       "\n",
       "                Driver City Driver State  DL State        Arrest Type  \n",
       "1           FAIRFAX STATION           VA        VA  A - Marked Patrol  \n",
       "2            UPPER MARLBORO           MD        MD  A - Marked Patrol  \n",
       "3           FORT WASHINGTON           MD        MD  A - Marked Patrol  \n",
       "6                BELTSVILLE           MD        MD  A - Marked Patrol  \n",
       "10            POINT OF ROCK           MD        WV  A - Marked Patrol  \n",
       "...                     ...          ...       ...                ...  \n",
       "1291736          GERMANTOWN           MD        MD  A - Marked Patrol  \n",
       "1291737          GERMANTOWN           MD        MD   Q - Marked Laser  \n",
       "1291738           FREDERICK           MD        MD   Q - Marked Laser  \n",
       "1291739            DAMASCUS           MD        MD   Q - Marked Laser  \n",
       "1291740  MONTGOMERY VILLAGE           MD        MD   Q - Marked Laser  \n",
       "\n",
       "[1119016 rows x 30 columns]"
      ]
     },
     "execution_count": 16,
     "metadata": {},
     "output_type": "execute_result"
    }
   ],
   "source": [
    "traffic_violations_df"
   ]
  },
  {
   "cell_type": "code",
   "execution_count": 17,
   "metadata": {},
   "outputs": [],
   "source": [
    "traffic_violations_df.to_csv(\"out4.csv\")"
   ]
  },
  {
   "cell_type": "markdown",
   "metadata": {
    "id": "9l2wpF92j3z9"
   },
   "source": [
    "# Part 2 Basic data exploration and summary statistics\n",
    "- You must present three conclusions using at least three different statistical methods including hypothesis testing.\n",
    "    - For example: What are the main characteristics of your dataset? How many features and entries are there? Is a feature over-represented? Are features correlated? Are there outliers? Identify the attributes that will affect your choice of primary analysis technique. Etcetera.\n",
    "-  For each method, you must have at least one gorgeous plot."
   ]
  },
  {
   "cell_type": "markdown",
   "metadata": {
    "id": "FEf14ngamCRV"
   },
   "source": [
    "## Descriptive Analysis"
   ]
  },
  {
   "cell_type": "markdown",
   "metadata": {
    "id": "zQqfFjn4vh69"
   },
   "source": [
    "### Identify the outlier"
   ]
  },
  {
   "cell_type": "code",
   "execution_count": 18,
   "metadata": {
    "colab": {
     "base_uri": "https://localhost:8080/",
     "height": 584
    },
    "id": "U01t8DR72WuN",
    "outputId": "d9609e6f-4f9f-4b8b-ced9-1b49aace0900"
   },
   "outputs": [
    {
     "data": {
      "image/png": "[encoded data removed]",
      "text/plain": [
       "<Figure size 640x480 with 1 Axes>"
      ]
     },
     "metadata": {},
     "output_type": "display_data"
    },
    {
     "name": "stdout",
     "output_type": "stream",
     "text": [
      "Outliers in 'Violation Type':\n",
      "SERO    23\n",
      "Name: Violation Type, dtype: int64\n"
     ]
    }
   ],
   "source": [
    "violation_type_counts = traffic_violations_df['Violation Type'].value_counts()\n",
    "\n",
    "# Bar plot visualization\n",
    "violation_type_counts.plot(kind='bar')\n",
    "plt.title('Frequency Distribution of Violation Type')\n",
    "plt.xlabel('Violation Type')\n",
    "plt.ylabel('Count')\n",
    "plt.show()\n",
    "\n",
    "# Calculate z-scores\n",
    "violation_type_zscores = zscore(violation_type_counts)\n",
    "violation_type_outliers = violation_type_counts[abs(violation_type_zscores) > 1]\n",
    "print(f\"Outliers in 'Violation Type':\\n{violation_type_outliers}\")"
   ]
  },
  {
   "cell_type": "markdown",
   "metadata": {
    "id": "lGk0YW0thbco"
   },
   "source": [
    "#### Removing SERO from the Violation Type\n",
    "We realized that SERO (\"Repair Order\"), since there are only 23 instances compared to Warning and Citation that have 100,000s of entries"
   ]
  },
  {
   "cell_type": "code",
   "execution_count": 19,
   "metadata": {
    "id": "szDEzWlewcdd"
   },
   "outputs": [],
   "source": [
    "traffic_violations_df = traffic_violations_df[traffic_violations_df['Violation Type'] != 'SERO']"
   ]
  },
  {
   "cell_type": "markdown",
   "metadata": {
    "id": "8MsWePQvt_fb"
   },
   "source": [
    "### Mode of Violation Type"
   ]
  },
  {
   "cell_type": "code",
   "execution_count": 30,
   "metadata": {
    "colab": {
     "base_uri": "https://localhost:8080/"
    },
    "id": "Sj7wW1O5uRt_",
    "outputId": "e542e583-82ac-4965-b2c1-4175b9468398"
   },
   "outputs": [
    {
     "name": "stdout",
     "output_type": "stream",
     "text": [
      "Mode Violation Types:  Warning\n"
     ]
    }
   ],
   "source": [
    "mode_value = traffic_violations_df['Violation Type'].mode()\n",
    "print(\"Mode Violation Types: \",mode_value[0])"
   ]
  },
  {
   "cell_type": "markdown",
   "metadata": {
    "id": "8MsWePQvt_fb"
   },
   "source": [
    "As we can see the mode function, police officers give more warnings then citations, however as we can see from the bar chart, that in actuality they give warnings and citations about evenly"
   ]
  },
  {
   "cell_type": "markdown",
   "metadata": {
    "id": "8MsWePQvt_fb"
   },
   "source": [
    "### Mean, Max, Min, Standard deviation"
   ]
  },
  {
   "cell_type": "code",
   "execution_count": 43,
   "metadata": {},
   "outputs": [
    {
     "name": "stdout",
     "output_type": "stream",
     "text": [
      "count         7.000000\n",
      "mean     159856.142857\n",
      "std       79873.554742\n",
      "min       33429.000000\n",
      "25%      128798.500000\n",
      "50%      147326.000000\n",
      "75%      197529.500000\n",
      "max      285582.000000\n",
      "Name: SubAgency, dtype: float64\n",
      "\n",
      "Upper Limit   300626.0\n",
      "Lower Limit   25702.0\n"
     ]
    }
   ],
   "source": [
    "violation_by_SubAgency = traffic_violations_df['SubAgency'].value_counts()\n",
    "violation_by_SubAgency_info = violation_by_SubAgency.describe()\n",
    "IQR =  violation_by_SubAgency_info['75%'] -  violation_by_SubAgency_info['25%']\n",
    "low_lim = violation_by_SubAgency_info['25%'] - 1.5 * IQR\n",
    "up_lim = violation_by_SubAgency_info['75%']  + 1.5 * IQR\n",
    "\n",
    "print(violation_by_SubAgency_info)\n",
    "print(\"\\nUpper Limit  \", up_lim)\n",
    "print(\"Lower Limit  \", low_lim)"
   ]
  },
  {
   "cell_type": "code",
   "execution_count": 32,
   "metadata": {},
   "outputs": [
    {
     "data": {
      "image/png": "[encoded data removed]",
      "text/plain": [
       "<Figure size 640x480 with 1 Axes>"
      ]
     },
     "metadata": {},
     "output_type": "display_data"
    }
   ],
   "source": [
    "mean = violation_by_SubAgency_info['mean']\n",
    "\n",
    "# Plot Bar\n",
    "violation_by_SubAgency.plot(kind='bar')\n",
    "plt.xlabel('District Police')\n",
    "plt.ylabel('Count of Violation')\n",
    "plt.title('Count of Violation by District Police')\n",
    "\n",
    "# Add a horizontal line\n",
    "plt.axhline(y=mean, color='r', linestyle='--', linewidth=2)\n",
    "plt.text(x=4, y=mean + 2500, s='Mean', color='r', ha='center', fontsize = 12)\n",
    "\n",
    "plt.axhline(y=low_lim, color='r', linestyle='--', linewidth=2)\n",
    "plt.text(x=4, y=low_lim + 2500, s='Lower Limit', color='r', ha='center', fontsize = 12)\n",
    "\n",
    "plt.axhline(y=up_lim, color='r', linestyle='--', linewidth=2)\n",
    "plt.text(x=4, y=up_lim - 15000, s='Upper Limit', color='r', ha='center', fontsize = 12)\n",
    "\n",
    "plt.show()"
   ]
  },
  {
   "cell_type": "markdown",
   "metadata": {
    "id": "8MsWePQvt_fb"
   },
   "source": [
    "At first glance it would look like Headquaters and 4h district could be outliers, however after calculating the IQR, and overlaping the lower and uppper limits on the bar graph, it was clear to see that they were not outliers, since they are within the range."
   ]
  },
  {
   "cell_type": "code",
   "execution_count": 25,
   "metadata": {
    "colab": {
     "base_uri": "https://localhost:8080/",
     "height": 585
    },
    "id": "P6NKQYKU0UYG",
    "outputId": "223c8565-5ad5-42ac-9abf-74b1b796dabc"
   },
   "outputs": [
    {
     "data": {
      "image/png": "[encoded data removed]",
      "text/plain": [
       "<Figure size 640x480 with 1 Axes>"
      ]
     },
     "metadata": {},
     "output_type": "display_data"
    }
   ],
   "source": [
    "violation_by_race= traffic_violations_df['Race'].value_counts()\n",
    "violation_by_race.plot(kind='bar')\n",
    "plt.xlabel('Race')\n",
    "plt.ylabel('Count of Violation')\n",
    "plt.title('Count of Violation by Race')\n",
    "plt.show()"
   ]
  },
  {
   "cell_type": "code",
   "execution_count": 26,
   "metadata": {
    "colab": {
     "base_uri": "https://localhost:8080/",
     "height": 786
    },
    "id": "XqrHHrke13rg",
    "outputId": "8c793d9f-63cd-4d05-863f-6739a0371407"
   },
   "outputs": [
    {
     "data": {
      "image/png": "[encoded data removed]",
      "text/plain": [
       "<Figure size 640x480 with 1 Axes>"
      ]
     },
     "metadata": {},
     "output_type": "display_data"
    }
   ],
   "source": [
    "violation_by_subAgency= traffic_violations_df['SubAgency'].value_counts()\n",
    "violation_by_subAgency.plot(kind='bar')\n",
    "plt.xlabel('SubAgency')\n",
    "plt.ylabel('Count of Violation')\n",
    "plt.title('Count of Violation by SubAgency')\n",
    "plt.show()"
   ]
  },
  {
   "cell_type": "code",
   "execution_count": 27,
   "metadata": {
    "colab": {
     "base_uri": "https://localhost:8080/",
     "height": 532
    },
    "id": "LwytQqnm3Ya3",
    "outputId": "da4ac289-fa6f-4c3e-e141-eeb2bf78a8d1"
   },
   "outputs": [
    {
     "data": {
      "text/plain": [
       "<Figure size 1000x600 with 0 Axes>"
      ]
     },
     "metadata": {},
     "output_type": "display_data"
    },
    {
     "data": {
      "image/png": "[encoded data removed]",
      "text/plain": [
       "<Figure size 640x480 with 1 Axes>"
      ]
     },
     "metadata": {},
     "output_type": "display_data"
    }
   ],
   "source": [
    "race_by_violationType = pd.crosstab(traffic_violations_df['Violation Type'], traffic_violations_df['Race'])\n",
    "plt.figure(figsize=(10, 6))\n",
    "race_by_violationType.plot(kind='bar')\n",
    "plt.legend(loc='upper left', bbox_to_anchor=(1, 1))\n",
    "plt.title('Race Distribution by Violation Type')\n",
    "plt.xlabel('Violation Type')\n",
    "plt.ylabel('Count')\n",
    "plt.show()"
   ]
  },
  {
   "cell_type": "code",
   "execution_count": 28,
   "metadata": {
    "colab": {
     "base_uri": "https://localhost:8080/",
     "height": 515
    },
    "id": "i_01-NVf5EMU",
    "outputId": "09c13eba-acd1-4931-f6fb-106f975f081e"
   },
   "outputs": [
    {
     "data": {
      "image/png": "[encoded data removed]",
      "text/plain": [
       "<Figure size 640x480 with 1 Axes>"
      ]
     },
     "metadata": {},
     "output_type": "display_data"
    }
   ],
   "source": [
    "violationtype_by_gender = pd.crosstab(traffic_violations_df['Violation Type'], traffic_violations_df['Gender'])\n",
    "violationtype_by_gender.plot(kind='bar')\n",
    "plt.legend(loc='upper left', bbox_to_anchor=(1, 1))\n",
    "plt.title('Gender Distribution by Violation Type')\n",
    "plt.xlabel('Violation Type')\n",
    "plt.ylabel('Count')\n",
    "plt.show()"
   ]
  },
  {
   "cell_type": "markdown",
   "metadata": {
    "id": "SV9oql7AJMjo"
   },
   "source": [
    "## Hypothesis Tests"
   ]
  },
  {
   "cell_type": "markdown",
   "metadata": {
    "id": "n4sugvySJen1"
   },
   "source": [
    "H0: The Sub Agency of the traffic stop does not have an effect on the likelyhood of the stop resulting in a citation\n",
    "\n",
    "HA: The Sub Agency of the traffic stop does have an effect on the likelyhood of the stop resulting in a citation"
   ]
  },
  {
   "cell_type": "code",
   "execution_count": 29,
   "metadata": {
    "colab": {
     "base_uri": "https://localhost:8080/",
     "height": 300
    },
    "id": "ldqCLs_WmPU5",
    "outputId": "bb06f705-ff6f-41ab-878f-3d8424094297"
   },
   "outputs": [
    {
     "data": {
      "text/html": [
       "<div>\n",
       "<style scoped>\n",
       "    .dataframe tbody tr th:only-of-type {\n",
       "        vertical-align: middle;\n",
       "    }\n",
       "\n",
       "    .dataframe tbody tr th {\n",
       "        vertical-align: top;\n",
       "    }\n",
       "\n",
       "    .dataframe thead th {\n",
       "        text-align: right;\n",
       "    }\n",
       "</style>\n",
       "<table border=\"1\" class=\"dataframe\">\n",
       "  <thead>\n",
       "    <tr style=\"text-align: right;\">\n",
       "      <th>Violation Type</th>\n",
       "      <th>Citation</th>\n",
       "      <th>Warning</th>\n",
       "    </tr>\n",
       "    <tr>\n",
       "      <th>SubAgency</th>\n",
       "      <th></th>\n",
       "      <th></th>\n",
       "    </tr>\n",
       "  </thead>\n",
       "  <tbody>\n",
       "    <tr>\n",
       "      <th>1st district, Rockville</th>\n",
       "      <td>57196</td>\n",
       "      <td>77652</td>\n",
       "    </tr>\n",
       "    <tr>\n",
       "      <th>2nd district, Bethesda</th>\n",
       "      <td>92266</td>\n",
       "      <td>77969</td>\n",
       "    </tr>\n",
       "    <tr>\n",
       "      <th>3rd district, Silver Spring</th>\n",
       "      <td>120792</td>\n",
       "      <td>104032</td>\n",
       "    </tr>\n",
       "    <tr>\n",
       "      <th>4th district, Wheaton</th>\n",
       "      <td>136582</td>\n",
       "      <td>149000</td>\n",
       "    </tr>\n",
       "    <tr>\n",
       "      <th>5th district, Germantown</th>\n",
       "      <td>54858</td>\n",
       "      <td>67891</td>\n",
       "    </tr>\n",
       "    <tr>\n",
       "      <th>6th district, Gaithersburg / Montgomery Village</th>\n",
       "      <td>61730</td>\n",
       "      <td>85596</td>\n",
       "    </tr>\n",
       "    <tr>\n",
       "      <th>Headquarters and Special Operations</th>\n",
       "      <td>18177</td>\n",
       "      <td>15252</td>\n",
       "    </tr>\n",
       "  </tbody>\n",
       "</table>\n",
       "</div>"
      ],
      "text/plain": [
       "Violation Type                                   Citation  Warning\n",
       "SubAgency                                                         \n",
       "1st district, Rockville                             57196    77652\n",
       "2nd district, Bethesda                              92266    77969\n",
       "3rd district, Silver Spring                        120792   104032\n",
       "4th district, Wheaton                              136582   149000\n",
       "5th district, Germantown                            54858    67891\n",
       "6th district, Gaithersburg / Montgomery Village     61730    85596\n",
       "Headquarters and Special Operations                 18177    15252"
      ]
     },
     "execution_count": 29,
     "metadata": {},
     "output_type": "execute_result"
    }
   ],
   "source": [
    "contingency_table = pd.crosstab(traffic_violations_df['SubAgency'], traffic_violations_df['Violation Type'])\n",
    "contingency_table"
   ]
  },
  {
   "cell_type": "code",
   "execution_count": 21,
   "metadata": {
    "colab": {
     "base_uri": "https://localhost:8080/",
     "height": 300
    },
    "id": "YKiMPlQGoK02",
    "outputId": "8ec9b3f9-717a-4c61-db99-50aef67015c3"
   },
   "outputs": [
    {
     "data": {
      "text/html": [
       "<div>\n",
       "<style scoped>\n",
       "    .dataframe tbody tr th:only-of-type {\n",
       "        vertical-align: middle;\n",
       "    }\n",
       "\n",
       "    .dataframe tbody tr th {\n",
       "        vertical-align: top;\n",
       "    }\n",
       "\n",
       "    .dataframe thead th {\n",
       "        text-align: right;\n",
       "    }\n",
       "</style>\n",
       "<table border=\"1\" class=\"dataframe\">\n",
       "  <thead>\n",
       "    <tr style=\"text-align: right;\">\n",
       "      <th>Gender</th>\n",
       "      <th>F</th>\n",
       "      <th>M</th>\n",
       "      <th>U</th>\n",
       "    </tr>\n",
       "    <tr>\n",
       "      <th>SubAgency</th>\n",
       "      <th></th>\n",
       "      <th></th>\n",
       "      <th></th>\n",
       "    </tr>\n",
       "  </thead>\n",
       "  <tbody>\n",
       "    <tr>\n",
       "      <th>1st district, Rockville</th>\n",
       "      <td>48604</td>\n",
       "      <td>86208</td>\n",
       "      <td>36</td>\n",
       "    </tr>\n",
       "    <tr>\n",
       "      <th>2nd district, Bethesda</th>\n",
       "      <td>63657</td>\n",
       "      <td>106409</td>\n",
       "      <td>169</td>\n",
       "    </tr>\n",
       "    <tr>\n",
       "      <th>3rd district, Silver Spring</th>\n",
       "      <td>68643</td>\n",
       "      <td>155405</td>\n",
       "      <td>776</td>\n",
       "    </tr>\n",
       "    <tr>\n",
       "      <th>4th district, Wheaton</th>\n",
       "      <td>86422</td>\n",
       "      <td>199078</td>\n",
       "      <td>82</td>\n",
       "    </tr>\n",
       "    <tr>\n",
       "      <th>5th district, Germantown</th>\n",
       "      <td>44004</td>\n",
       "      <td>78700</td>\n",
       "      <td>45</td>\n",
       "    </tr>\n",
       "    <tr>\n",
       "      <th>6th district, Gaithersburg / Montgomery Village</th>\n",
       "      <td>51175</td>\n",
       "      <td>96029</td>\n",
       "      <td>122</td>\n",
       "    </tr>\n",
       "    <tr>\n",
       "      <th>Headquarters and Special Operations</th>\n",
       "      <td>8667</td>\n",
       "      <td>24729</td>\n",
       "      <td>33</td>\n",
       "    </tr>\n",
       "  </tbody>\n",
       "</table>\n",
       "</div>"
      ],
      "text/plain": [
       "Gender                                               F       M    U\n",
       "SubAgency                                                          \n",
       "1st district, Rockville                          48604   86208   36\n",
       "2nd district, Bethesda                           63657  106409  169\n",
       "3rd district, Silver Spring                      68643  155405  776\n",
       "4th district, Wheaton                            86422  199078   82\n",
       "5th district, Germantown                         44004   78700   45\n",
       "6th district, Gaithersburg / Montgomery Village  51175   96029  122\n",
       "Headquarters and Special Operations               8667   24729   33"
      ]
     },
     "execution_count": 21,
     "metadata": {},
     "output_type": "execute_result"
    }
   ],
   "source": [
    "contingency_table = pd.crosstab(traffic_violations_df['SubAgency'], traffic_violations_df['Gender'])\n",
    "contingency_table"
   ]
  },
  {
   "cell_type": "markdown",
   "metadata": {
    "id": "tlAdi5xvz5mE"
   },
   "source": []
  },
  {
   "cell_type": "markdown",
   "metadata": {
    "colab": {
     "base_uri": "https://localhost:8080/",
     "height": 585
    },
    "id": "P6NKQYKU0UYG",
    "outputId": "223c8565-5ad5-42ac-9abf-74b1b796dabc"
   },
   "source": []
  }
 ],
 "metadata": {
  "colab": {
   "provenance": []
  },
  "kernelspec": {
   "display_name": "Python 3 (ipykernel)",
   "language": "python",
   "name": "python3"
  },
  "language_info": {
   "codemirror_mode": {
    "name": "ipython",
    "version": 3
   },
   "file_extension": ".py",
   "mimetype": "text/x-python",
   "name": "python",
   "nbconvert_exporter": "python",
   "pygments_lexer": "ipython3",
   "version": "3.12.4"
  }
 },
 "nbformat": 4,
 "nbformat_minor": 4
}
