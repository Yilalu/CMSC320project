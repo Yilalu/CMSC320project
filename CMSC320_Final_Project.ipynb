{
 "cells": [
  {
   "cell_type": "markdown",
   "metadata": {},
   "source": [
    "(5 points) Data preprocessing: (a) import, (b) parse (e.g., convert strings to ints), (c) organize (e.g., set up a database or a pandas DataFrame). "
   ]
  },
  {
   "cell_type": "markdown",
   "metadata": {},
   "source": [
    "Import necessary libraries"
   ]
  },
  {
   "cell_type": "code",
   "execution_count": 1,
   "metadata": {
    "id": "rGbHr5SjXXkH"
   },
   "outputs": [],
   "source": [
    "import pandas as pd\n",
    "import numpy as np"
   ]
  },
  {
   "cell_type": "markdown",
   "metadata": {},
   "source": [
    "Load Traffic_Violations.csv dataset into traffic_violations_df dataframe and display the dataframe. "
   ]
  },
  {
   "cell_type": "code",
   "execution_count": 2,
   "metadata": {},
   "outputs": [
    {
     "name": "stderr",
     "output_type": "stream",
     "text": [
      "/tmp/ipykernel_124228/173285525.py:1: DtypeWarning: Columns (26) have mixed types. Specify dtype option on import or set low_memory=False.\n",
      "  traffic_violations_df = pd.read_csv(\"Traffic_Violations.csv\")\n"
     ]
    }
   ],
   "source": [
    "traffic_violations_df = pd.read_csv(\"Traffic_Violations.csv\")"
   ]
  },
  {
   "cell_type": "markdown",
   "metadata": {},
   "source": [
    "## Initial State of the database"
   ]
  },
  {
   "cell_type": "markdown",
   "metadata": {},
   "source": [
    "Display column names."
   ]
  },
  {
   "cell_type": "code",
   "execution_count": 3,
   "metadata": {},
   "outputs": [
    {
     "data": {
      "text/plain": [
       "Index(['Date Of Stop', 'Time Of Stop', 'Agency', 'SubAgency', 'Description',\n",
       "       'Location', 'Latitude', 'Longitude', 'Accident', 'Belts',\n",
       "       'Personal Injury', 'Property Damage', 'Fatal', 'Commercial License',\n",
       "       'HAZMAT', 'Commercial Vehicle', 'Alcohol', 'Work Zone', 'State',\n",
       "       'VehicleType', 'Year', 'Make', 'Model', 'Color', 'Violation Type',\n",
       "       'Charge', 'Article', 'Contributed To Accident', 'Race', 'Gender',\n",
       "       'Driver City', 'Driver State', 'DL State', 'Arrest Type',\n",
       "       'Geolocation'],\n",
       "      dtype='object')"
      ]
     },
     "execution_count": 3,
     "metadata": {},
     "output_type": "execute_result"
    }
   ],
   "source": [
    "traffic_violations_df.columns"
   ]
  },
  {
   "cell_type": "markdown",
   "metadata": {},
   "source": [
    "Display column types."
   ]
  },
  {
   "cell_type": "code",
   "execution_count": 4,
   "metadata": {},
   "outputs": [
    {
     "data": {
      "text/plain": [
       "Date Of Stop                object\n",
       "Time Of Stop                object\n",
       "Agency                      object\n",
       "SubAgency                   object\n",
       "Description                 object\n",
       "Location                    object\n",
       "Latitude                   float64\n",
       "Longitude                  float64\n",
       "Accident                    object\n",
       "Belts                       object\n",
       "Personal Injury             object\n",
       "Property Damage             object\n",
       "Fatal                       object\n",
       "Commercial License          object\n",
       "HAZMAT                      object\n",
       "Commercial Vehicle          object\n",
       "Alcohol                     object\n",
       "Work Zone                   object\n",
       "State                       object\n",
       "VehicleType                 object\n",
       "Year                       float64\n",
       "Make                        object\n",
       "Model                       object\n",
       "Color                       object\n",
       "Violation Type              object\n",
       "Charge                      object\n",
       "Article                     object\n",
       "Contributed To Accident     object\n",
       "Race                        object\n",
       "Gender                      object\n",
       "Driver City                 object\n",
       "Driver State                object\n",
       "DL State                    object\n",
       "Arrest Type                 object\n",
       "Geolocation                 object\n",
       "dtype: object"
      ]
     },
     "execution_count": 4,
     "metadata": {},
     "output_type": "execute_result"
    }
   ],
   "source": [
    "traffic_violations_df.dtypes"
   ]
  },
  {
   "cell_type": "markdown",
   "metadata": {},
   "source": [
    "Display the number of rows and columns."
   ]
  },
  {
   "cell_type": "code",
   "execution_count": 5,
   "metadata": {},
   "outputs": [
    {
     "name": "stdout",
     "output_type": "stream",
     "text": [
      "Number of rows:  1292399\n",
      "Number of columns:  35\n"
     ]
    }
   ],
   "source": [
    "number_of_rows, number_of_columns = traffic_violations_df.shape\n",
    "print(\"Number of rows: \", number_of_rows)\n",
    "print(\"Number of columns: \", number_of_columns)"
   ]
  },
  {
   "cell_type": "markdown",
   "metadata": {},
   "source": [
    "Check if there is any missing value."
   ]
  },
  {
   "cell_type": "code",
   "execution_count": 6,
   "metadata": {},
   "outputs": [
    {
     "data": {
      "text/plain": [
       "Date Of Stop               1292399\n",
       "Time Of Stop               1292399\n",
       "Agency                     1292399\n",
       "SubAgency                  1292389\n",
       "Description                1292390\n",
       "Location                   1292397\n",
       "Latitude                   1197045\n",
       "Longitude                  1197045\n",
       "Accident                   1292399\n",
       "Belts                      1292399\n",
       "Personal Injury            1292399\n",
       "Property Damage            1292399\n",
       "Fatal                      1292399\n",
       "Commercial License         1292399\n",
       "HAZMAT                     1292399\n",
       "Commercial Vehicle         1292399\n",
       "Alcohol                    1292399\n",
       "Work Zone                  1292399\n",
       "State                      1292340\n",
       "VehicleType                1292399\n",
       "Year                       1284325\n",
       "Make                       1292342\n",
       "Model                      1292212\n",
       "Color                      1276272\n",
       "Violation Type             1292399\n",
       "Charge                     1292399\n",
       "Article                    1227230\n",
       "Contributed To Accident    1292399\n",
       "Race                       1292399\n",
       "Gender                     1292399\n",
       "Driver City                1292182\n",
       "Driver State               1292388\n",
       "DL State                   1291470\n",
       "Arrest Type                1292399\n",
       "Geolocation                1197045\n",
       "dtype: int64"
      ]
     },
     "execution_count": 6,
     "metadata": {},
     "output_type": "execute_result"
    }
   ],
   "source": [
    "traffic_violations_df.count()"
   ]
  },
  {
   "cell_type": "markdown",
   "metadata": {},
   "source": [
    "Count the number of duplicate rows so that we can remove the duplicates."
   ]
  },
  {
   "cell_type": "code",
   "execution_count": 9,
   "metadata": {},
   "outputs": [
    {
     "name": "stdout",
     "output_type": "stream",
     "text": [
      "Duplicate entries:  1588\n"
     ]
    }
   ],
   "source": [
    "duplicate_rows = traffic_violations_df.duplicated()\n",
    "print(\"Duplicate entries: \", traffic_violations_df[duplicate_rows].shape[0])"
   ]
  },
  {
   "cell_type": "markdown",
   "metadata": {},
   "source": [
    "Identify the number of missing values of each column."
   ]
  },
  {
   "cell_type": "markdown",
   "metadata": {},
   "source": [
    "Now, convert the 'Date Of Stop' column to datetime format."
   ]
  },
  {
   "cell_type": "code",
   "execution_count": null,
   "metadata": {},
   "outputs": [],
   "source": [
    "traffic_violations_df['Date Of Stop'] = pd.to_datetime(traffic_violations_df['Date Of Stop'], format='%m/%d/%Y', dayfirst=True)"
   ]
  },
  {
   "cell_type": "code",
   "execution_count": null,
   "metadata": {},
   "outputs": [],
   "source": [
    "traffic_violations_df['Time Of Stop'] = pd.to_datetime(traffic_violations_df['Time Of Stop'], format='%H:%M:%S')"
   ]
  },
  {
   "cell_type": "markdown",
   "metadata": {},
   "source": [
    "Since the original dataset is too large, we want to work with the data from the last few years only. \n",
    "\n",
    "1. Finding the latest date in the 'Date Of Stop' column.\n",
    "2. Calculating the date two years prior to the latest date.\n",
    "3. Filtering the DataFrame to include only the records from the last two years."
   ]
  },
  {
   "cell_type": "markdown",
   "metadata": {},
   "source": [
    "As wecan see, some of the columns have less number of rows counts, which indicates there are missing values."
   ]
  },
  {
   "cell_type": "markdown",
   "metadata": {},
   "source": [
    "Drop duplicate rows (keep the first occurence) and display the new look of the dataframe."
   ]
  },
  {
   "cell_type": "code",
   "execution_count": null,
   "metadata": {},
   "outputs": [],
   "source": [
    "traffic_violations_df = traffic_violations_df.drop_duplicates()"
   ]
  },
  {
   "cell_type": "markdown",
   "metadata": {},
   "source": []
  },
  {
   "cell_type": "code",
   "execution_count": null,
   "metadata": {},
   "outputs": [],
   "source": [
    "traffic_violations_df = traffic_violations_df.dropna()\n",
    "traffic_violations_df"
   ]
  },
  {
   "cell_type": "code",
   "execution_count": null,
   "metadata": {},
   "outputs": [],
   "source": [
    "missing_values_count = traffic_violations_df.isnull().sum()\n",
    "missing_values_count"
   ]
  },
  {
   "cell_type": "code",
   "execution_count": null,
   "metadata": {},
   "outputs": [],
   "source": []
  },
  {
   "cell_type": "markdown",
   "metadata": {},
   "source": [
    "Drop duplicate feature \"column\" Geolocation as it is already in columns Latitude Longitude\n",
    "Drop Agency column, as it only has 1 value MCP"
   ]
  },
  {
   "cell_type": "markdown",
   "metadata": {},
   "source": [
    "Date Of Stop                   \n",
    "Time Of Stop\n",
    "\n",
    "Convert this to columns years, month, day, hour\n",
    "\n",
    "\n",
    "SubAgency convert to first number \n",
    "Description ______________ leave alone\n",
    "\n",
    "# Drop the missing rows\n",
    "Location   ____ drop column\n",
    "Latitude\n",
    "Longitude\n",
    "\n",
    "# Conver to yes to 1 and no to 0\n",
    "\n",
    "Accident                       0\n",
    "Belts                          0\n",
    "Personal Injury                0\n",
    "Property Damage                0\n",
    "Fatal                          0\n",
    "Commercial License             0\n",
    "HAZMAT                         0\n",
    "Commercial Vehicle             0\n",
    "Alcohol                        0\n",
    "Work Zone                      0\n",
    "Contributed To Accident        0\n",
    "Gender                         0\n",
    "\n",
    "\n",
    "\n",
    "\n",
    "                                                            \n",
    "\n",
    "\n",
    "## Drop\n",
    "Color                      16093  Drop\n",
    "Article                    65163  Drop\n",
    "Geolocation                95112  Drop\n",
    "Agency ______ Delete\n",
    "\n",
    "\n",
    "Violation Type                 0\n",
    "Charge                         0\n",
    "State                         59\n",
    "VehicleType                    0\n",
    "Year                        8042\n",
    "Make                          57\n",
    "Model                        187\n",
    "Race                           0\n",
    "Driver City                  217\n",
    "Driver State                  11\n",
    "DL State                     929\n",
    "Arrest Type                    0"
   ]
  },
  {
   "cell_type": "code",
   "execution_count": null,
   "metadata": {},
   "outputs": [],
   "source": [
    "district_name = {\n",
    "    'Headquarters and Special Operations': 0,\n",
    "    '1st district, Rockville': 1,\n",
    "    '2nd district, Bethesda': 2,\n",
    "    '3rd district, Silver Spring': 3, \n",
    "    '4th district, Wheaton': 4,\n",
    "    '5th district, Germantown': 5,\n",
    "    '6th district, Gaithersburg / Montgomery Village' : 6,\n",
    "}\n",
    "traffic_violations_df['SubAgency'] = traffic_violations_df['SubAgency'].map(district_name)"
   ]
  },
  {
   "cell_type": "code",
   "execution_count": null,
   "metadata": {},
   "outputs": [],
   "source": [
    "traffic_violations_df['Gender'].unique()"
   ]
  },
  {
   "cell_type": "code",
   "execution_count": null,
   "metadata": {},
   "outputs": [],
   "source": [
    "traffic_violations_df['Accident'] = traffic_violations_df['Accident'].map({'Yes': 1, 'No': 0})\n",
    "traffic_violations_df['Belts'] = traffic_violations_df['Belts'].map({'Yes': 1, 'No': 0})\n",
    "traffic_violations_df['Personal Injury'] = traffic_violations_df['Personal Injury'].map({'Yes': 1, 'No': 0})\n",
    "traffic_violations_df['Property Damage'] = traffic_violations_df['Property Damage'].map({'Yes': 1, 'No': 0})\n",
    "traffic_violations_df['Commercial License'] = traffic_violations_df['Commercial License'].map({'Yes': 1, 'No': 0})\n",
    "traffic_violations_df['Commercial Vehicle'] = traffic_violations_df['Commercial Vehicle'].map({'Yes': 1, 'No': 0})\n",
    "traffic_violations_df['Alcohol'] = traffic_violations_df['Alcohol'].map({'Yes': 1, 'No': 0})\n",
    "traffic_violations_df['Work Zone'] = traffic_violations_df['Work Zone'].map({'Yes': 1, 'No': 0})\n",
    "traffic_violations_df['Contributed To Accident'] = traffic_violations_df['Contributed To Accident'].map({'Yes': 1, 'No': 0})\n",
    "traffic_violations_df['Gender'] = traffic_violations_df['Gender'].map({'F': 1, 'M': 0, 'U': 2})"
   ]
  },
  {
   "cell_type": "code",
   "execution_count": null,
   "metadata": {},
   "outputs": [],
   "source": [
    "traffic_violations_df.drop(['Geolocation', 'Agency', 'Article', 'Color'], axis='columns', inplace=True)   "
   ]
  },
  {
   "cell_type": "code",
   "execution_count": null,
   "metadata": {},
   "outputs": [],
   "source": [
    "traffic_violations_df"
   ]
  },
  {
   "cell_type": "code",
   "execution_count": null,
   "metadata": {},
   "outputs": [],
   "source": [
    "traffic_violations_df.to_csv('out.csv')"
   ]
  }
 ],
 "metadata": {
  "colab": {
   "provenance": []
  },
  "kernelspec": {
   "display_name": "Python 3 (ipykernel)",
   "language": "python",
   "name": "python3"
  },
  "language_info": {
   "codemirror_mode": {
    "name": "ipython",
    "version": 3
   },
   "file_extension": ".py",
   "mimetype": "text/x-python",
   "name": "python",
   "nbconvert_exporter": "python",
   "pygments_lexer": "ipython3",
   "version": "3.12.3"
  }
 },
 "nbformat": 4,
 "nbformat_minor": 4
}
